{
  "nbformat": 4,
  "nbformat_minor": 0,
  "metadata": {
    "colab": {
      "provenance": [],
      "collapsed_sections": [
        "fbugdK-l9IKA",
        "AXpo5mh82DSx"
      ]
    },
    "kernelspec": {
      "name": "python3",
      "display_name": "Python 3"
    },
    "language_info": {
      "name": "python"
    }
  },
  "cells": [
    {
      "cell_type": "markdown",
      "source": [
        "# Sentiment Analysis Project"
      ],
      "metadata": {
        "id": "PHmJtW1C1e8r"
      }
    },
    {
      "cell_type": "markdown",
      "source": [
        "## Mohammad Javad Maheronnaghsh - 99105691"
      ],
      "metadata": {
        "id": "gsoqLY7v1i1f"
      }
    },
    {
      "cell_type": "markdown",
      "source": [
        "# Libraries"
      ],
      "metadata": {
        "id": "5etbolPreOxu"
      }
    },
    {
      "cell_type": "code",
      "source": [
        "# install library\n",
        "! pip install fasttext"
      ],
      "metadata": {
        "colab": {
          "base_uri": "https://localhost:8080/"
        },
        "id": "C85hWn1vNX3t",
        "outputId": "490ec2b0-4aea-4da0-afc4-52041d1ca68c"
      },
      "execution_count": null,
      "outputs": [
        {
          "output_type": "stream",
          "name": "stdout",
          "text": [
            "Requirement already satisfied: fasttext in /usr/local/lib/python3.10/dist-packages (0.9.2)\n",
            "Requirement already satisfied: pybind11>=2.2 in /usr/local/lib/python3.10/dist-packages (from fasttext) (2.10.4)\n",
            "Requirement already satisfied: setuptools>=0.7.0 in /usr/local/lib/python3.10/dist-packages (from fasttext) (67.7.2)\n",
            "Requirement already satisfied: numpy in /usr/local/lib/python3.10/dist-packages (from fasttext) (1.22.4)\n"
          ]
        }
      ]
    },
    {
      "cell_type": "code",
      "source": [
        "from sklearn.feature_extraction.text import TfidfVectorizer\n",
        "from sklearn.model_selection import train_test_split\n",
        "from sklearn.linear_model import LogisticRegression\n",
        "from sklearn.metrics import classification_report\n",
        "from sklearn.tree import DecisionTreeClassifier\n",
        "from sklearn.ensemble import AdaBoostClassifier\n",
        "from sklearn.ensemble import VotingClassifier\n",
        "from sklearn.metrics import accuracy_score\n",
        "from sklearn import preprocessing\n",
        "from nltk.corpus import stopwords\n",
        "from google.colab import drive\n",
        "from tensorflow import keras\n",
        "import tensorflow as tf\n",
        "from io import StringIO\n",
        "import pandas as pd\n",
        "import numpy as np\n",
        "import fasttext\n",
        "import requests\n",
        "import nltk\n",
        "import re"
      ],
      "metadata": {
        "id": "wZYTXsAyeNBi"
      },
      "execution_count": 69,
      "outputs": []
    },
    {
      "cell_type": "markdown",
      "source": [
        "# Data"
      ],
      "metadata": {
        "id": "UmEMuGFX1mz-"
      }
    },
    {
      "cell_type": "code",
      "execution_count": null,
      "metadata": {
        "id": "cvX41GIa1bcb"
      },
      "outputs": [],
      "source": [
        "link = 'https://drive.google.com/u/0/uc?id=1BRhlDz-JASvfEljf_XxrL-ZH4gUvOg0v&export=download'\n",
        "r = requests.get(link)"
      ]
    },
    {
      "cell_type": "code",
      "source": [
        "df = pd.read_csv(StringIO(r.content.decode('utf-8')))"
      ],
      "metadata": {
        "id": "591CgWVmefkK"
      },
      "execution_count": null,
      "outputs": []
    },
    {
      "cell_type": "code",
      "source": [
        "df"
      ],
      "metadata": {
        "colab": {
          "base_uri": "https://localhost:8080/",
          "height": 423
        },
        "id": "X_oU3RviehdZ",
        "outputId": "906ac67a-bf5a-4c78-9fff-7ed2c41d0f61"
      },
      "execution_count": null,
      "outputs": [
        {
          "output_type": "execute_result",
          "data": {
            "text/plain": [
              "        PhraseId  SentenceId  \\\n",
              "0              1           1   \n",
              "1              2           1   \n",
              "2              3           1   \n",
              "3              4           1   \n",
              "4              5           1   \n",
              "...          ...         ...   \n",
              "155043    155044        8485   \n",
              "155044    155045        8485   \n",
              "155045    155046        8485   \n",
              "155046    155047        8485   \n",
              "155047    155048        8485   \n",
              "\n",
              "                                                   Phrase  Sentiment  \n",
              "0       A series of escapades demonstrating the adage ...          1  \n",
              "1       A series of escapades demonstrating the adage ...          2  \n",
              "2                                                A series          2  \n",
              "3                                                       A          2  \n",
              "4                                                  series          2  \n",
              "...                                                   ...        ...  \n",
              "155043          Santa Clause 2 ' is wondrously creative .          4  \n",
              "155044                         ' is wondrously creative .          2  \n",
              "155045                           is wondrously creative .          3  \n",
              "155046                             is wondrously creative          4  \n",
              "155047                                wondrously creative          4  \n",
              "\n",
              "[155048 rows x 4 columns]"
            ],
            "text/html": [
              "\n",
              "  <div id=\"df-941bfc06-d7fc-4dd2-ae6e-1b9d519bb639\">\n",
              "    <div class=\"colab-df-container\">\n",
              "      <div>\n",
              "<style scoped>\n",
              "    .dataframe tbody tr th:only-of-type {\n",
              "        vertical-align: middle;\n",
              "    }\n",
              "\n",
              "    .dataframe tbody tr th {\n",
              "        vertical-align: top;\n",
              "    }\n",
              "\n",
              "    .dataframe thead th {\n",
              "        text-align: right;\n",
              "    }\n",
              "</style>\n",
              "<table border=\"1\" class=\"dataframe\">\n",
              "  <thead>\n",
              "    <tr style=\"text-align: right;\">\n",
              "      <th></th>\n",
              "      <th>PhraseId</th>\n",
              "      <th>SentenceId</th>\n",
              "      <th>Phrase</th>\n",
              "      <th>Sentiment</th>\n",
              "    </tr>\n",
              "  </thead>\n",
              "  <tbody>\n",
              "    <tr>\n",
              "      <th>0</th>\n",
              "      <td>1</td>\n",
              "      <td>1</td>\n",
              "      <td>A series of escapades demonstrating the adage ...</td>\n",
              "      <td>1</td>\n",
              "    </tr>\n",
              "    <tr>\n",
              "      <th>1</th>\n",
              "      <td>2</td>\n",
              "      <td>1</td>\n",
              "      <td>A series of escapades demonstrating the adage ...</td>\n",
              "      <td>2</td>\n",
              "    </tr>\n",
              "    <tr>\n",
              "      <th>2</th>\n",
              "      <td>3</td>\n",
              "      <td>1</td>\n",
              "      <td>A series</td>\n",
              "      <td>2</td>\n",
              "    </tr>\n",
              "    <tr>\n",
              "      <th>3</th>\n",
              "      <td>4</td>\n",
              "      <td>1</td>\n",
              "      <td>A</td>\n",
              "      <td>2</td>\n",
              "    </tr>\n",
              "    <tr>\n",
              "      <th>4</th>\n",
              "      <td>5</td>\n",
              "      <td>1</td>\n",
              "      <td>series</td>\n",
              "      <td>2</td>\n",
              "    </tr>\n",
              "    <tr>\n",
              "      <th>...</th>\n",
              "      <td>...</td>\n",
              "      <td>...</td>\n",
              "      <td>...</td>\n",
              "      <td>...</td>\n",
              "    </tr>\n",
              "    <tr>\n",
              "      <th>155043</th>\n",
              "      <td>155044</td>\n",
              "      <td>8485</td>\n",
              "      <td>Santa Clause 2 ' is wondrously creative .</td>\n",
              "      <td>4</td>\n",
              "    </tr>\n",
              "    <tr>\n",
              "      <th>155044</th>\n",
              "      <td>155045</td>\n",
              "      <td>8485</td>\n",
              "      <td>' is wondrously creative .</td>\n",
              "      <td>2</td>\n",
              "    </tr>\n",
              "    <tr>\n",
              "      <th>155045</th>\n",
              "      <td>155046</td>\n",
              "      <td>8485</td>\n",
              "      <td>is wondrously creative .</td>\n",
              "      <td>3</td>\n",
              "    </tr>\n",
              "    <tr>\n",
              "      <th>155046</th>\n",
              "      <td>155047</td>\n",
              "      <td>8485</td>\n",
              "      <td>is wondrously creative</td>\n",
              "      <td>4</td>\n",
              "    </tr>\n",
              "    <tr>\n",
              "      <th>155047</th>\n",
              "      <td>155048</td>\n",
              "      <td>8485</td>\n",
              "      <td>wondrously creative</td>\n",
              "      <td>4</td>\n",
              "    </tr>\n",
              "  </tbody>\n",
              "</table>\n",
              "<p>155048 rows × 4 columns</p>\n",
              "</div>\n",
              "      <button class=\"colab-df-convert\" onclick=\"convertToInteractive('df-941bfc06-d7fc-4dd2-ae6e-1b9d519bb639')\"\n",
              "              title=\"Convert this dataframe to an interactive table.\"\n",
              "              style=\"display:none;\">\n",
              "        \n",
              "  <svg xmlns=\"http://www.w3.org/2000/svg\" height=\"24px\"viewBox=\"0 0 24 24\"\n",
              "       width=\"24px\">\n",
              "    <path d=\"M0 0h24v24H0V0z\" fill=\"none\"/>\n",
              "    <path d=\"M18.56 5.44l.94 2.06.94-2.06 2.06-.94-2.06-.94-.94-2.06-.94 2.06-2.06.94zm-11 1L8.5 8.5l.94-2.06 2.06-.94-2.06-.94L8.5 2.5l-.94 2.06-2.06.94zm10 10l.94 2.06.94-2.06 2.06-.94-2.06-.94-.94-2.06-.94 2.06-2.06.94z\"/><path d=\"M17.41 7.96l-1.37-1.37c-.4-.4-.92-.59-1.43-.59-.52 0-1.04.2-1.43.59L10.3 9.45l-7.72 7.72c-.78.78-.78 2.05 0 2.83L4 21.41c.39.39.9.59 1.41.59.51 0 1.02-.2 1.41-.59l7.78-7.78 2.81-2.81c.8-.78.8-2.07 0-2.86zM5.41 20L4 18.59l7.72-7.72 1.47 1.35L5.41 20z\"/>\n",
              "  </svg>\n",
              "      </button>\n",
              "      \n",
              "  <style>\n",
              "    .colab-df-container {\n",
              "      display:flex;\n",
              "      flex-wrap:wrap;\n",
              "      gap: 12px;\n",
              "    }\n",
              "\n",
              "    .colab-df-convert {\n",
              "      background-color: #E8F0FE;\n",
              "      border: none;\n",
              "      border-radius: 50%;\n",
              "      cursor: pointer;\n",
              "      display: none;\n",
              "      fill: #1967D2;\n",
              "      height: 32px;\n",
              "      padding: 0 0 0 0;\n",
              "      width: 32px;\n",
              "    }\n",
              "\n",
              "    .colab-df-convert:hover {\n",
              "      background-color: #E2EBFA;\n",
              "      box-shadow: 0px 1px 2px rgba(60, 64, 67, 0.3), 0px 1px 3px 1px rgba(60, 64, 67, 0.15);\n",
              "      fill: #174EA6;\n",
              "    }\n",
              "\n",
              "    [theme=dark] .colab-df-convert {\n",
              "      background-color: #3B4455;\n",
              "      fill: #D2E3FC;\n",
              "    }\n",
              "\n",
              "    [theme=dark] .colab-df-convert:hover {\n",
              "      background-color: #434B5C;\n",
              "      box-shadow: 0px 1px 3px 1px rgba(0, 0, 0, 0.15);\n",
              "      filter: drop-shadow(0px 1px 2px rgba(0, 0, 0, 0.3));\n",
              "      fill: #FFFFFF;\n",
              "    }\n",
              "  </style>\n",
              "\n",
              "      <script>\n",
              "        const buttonEl =\n",
              "          document.querySelector('#df-941bfc06-d7fc-4dd2-ae6e-1b9d519bb639 button.colab-df-convert');\n",
              "        buttonEl.style.display =\n",
              "          google.colab.kernel.accessAllowed ? 'block' : 'none';\n",
              "\n",
              "        async function convertToInteractive(key) {\n",
              "          const element = document.querySelector('#df-941bfc06-d7fc-4dd2-ae6e-1b9d519bb639');\n",
              "          const dataTable =\n",
              "            await google.colab.kernel.invokeFunction('convertToInteractive',\n",
              "                                                     [key], {});\n",
              "          if (!dataTable) return;\n",
              "\n",
              "          const docLinkHtml = 'Like what you see? Visit the ' +\n",
              "            '<a target=\"_blank\" href=https://colab.research.google.com/notebooks/data_table.ipynb>data table notebook</a>'\n",
              "            + ' to learn more about interactive tables.';\n",
              "          element.innerHTML = '';\n",
              "          dataTable['output_type'] = 'display_data';\n",
              "          await google.colab.output.renderOutput(dataTable, element);\n",
              "          const docLink = document.createElement('div');\n",
              "          docLink.innerHTML = docLinkHtml;\n",
              "          element.appendChild(docLink);\n",
              "        }\n",
              "      </script>\n",
              "    </div>\n",
              "  </div>\n",
              "  "
            ]
          },
          "metadata": {},
          "execution_count": 5
        }
      ]
    },
    {
      "cell_type": "markdown",
      "source": [
        "# Data Split"
      ],
      "metadata": {
        "id": "2-w_Fhnw1vGn"
      }
    },
    {
      "cell_type": "code",
      "source": [
        "y = df['Sentiment']\n",
        "x = df.drop('Sentiment', axis = 1)"
      ],
      "metadata": {
        "id": "UXWzeGZXx_S4"
      },
      "execution_count": null,
      "outputs": []
    },
    {
      "cell_type": "code",
      "source": [
        "print(x.shape)\n",
        "print(y.shape)"
      ],
      "metadata": {
        "colab": {
          "base_uri": "https://localhost:8080/"
        },
        "id": "AyWBqf31yi75",
        "outputId": "1cdc54f9-3b24-4bff-854f-fec5e6cf6790"
      },
      "execution_count": null,
      "outputs": [
        {
          "output_type": "stream",
          "name": "stdout",
          "text": [
            "(155048, 3)\n",
            "(155048,)\n"
          ]
        }
      ]
    },
    {
      "cell_type": "code",
      "source": [
        "# Train/Validation/Test = 0.8/0.1/0.1\n",
        "# stratify or not?\n",
        "x_train, x_, y_train, y_ = train_test_split(x, y, test_size=0.2)\n",
        "x_valid, x_test, y_valid, y_test = train_test_split(x_, y_, test_size=0.5)"
      ],
      "metadata": {
        "id": "ZBcAgcJf1yPz"
      },
      "execution_count": null,
      "outputs": []
    },
    {
      "cell_type": "markdown",
      "source": [
        "# Preprocessing\n",
        "Here we are going to preprocess the data\n",
        "and extract the features"
      ],
      "metadata": {
        "id": "u6cEb3BC1ybT"
      }
    },
    {
      "cell_type": "code",
      "source": [
        "# Download resources from NLTK\n",
        "nltk.download('stopwords')\n",
        "nltk.download('punkt')\n",
        "\n",
        "# Preprocessing\n",
        "stop_words = set(stopwords.words('english'))\n",
        "\n",
        "def preprocess_text(text):\n",
        "    text = text.lower()\n",
        "    text = re.sub(r'[^\\w\\s]', '', text)\n",
        "    tokens = nltk.word_tokenize(text)\n",
        "    tokens = [word for word in tokens if word not in stop_words]\n",
        "    if len(tokens) <= 1:\n",
        "      return \"random text\"\n",
        "    return ' '.join(tokens)\n",
        "\n",
        "x_train['Phrase'] = x_train['Phrase'].apply(preprocess_text)\n",
        "x_valid['Phrase'] = x_valid['Phrase'].apply(preprocess_text)\n",
        "x_test['Phrase'] = x_test['Phrase'].apply(preprocess_text)"
      ],
      "metadata": {
        "colab": {
          "base_uri": "https://localhost:8080/"
        },
        "id": "wRQK6Al6NIBi",
        "outputId": "1ec24873-0e03-49db-b763-4ee11d9d1112"
      },
      "execution_count": null,
      "outputs": [
        {
          "output_type": "stream",
          "name": "stderr",
          "text": [
            "[nltk_data] Error loading stopwords: HTTP Error 503: Backend is\n",
            "[nltk_data]     unhealthy\n",
            "[nltk_data] Error loading punkt: HTTP Error 503: Backend is unhealthy\n"
          ]
        }
      ]
    },
    {
      "cell_type": "markdown",
      "source": [
        "## First Approach: Basic Tools"
      ],
      "metadata": {
        "id": "xoqF36rrdedI"
      }
    },
    {
      "cell_type": "markdown",
      "source": [
        "What to do?\n",
        "\n",
        "\n",
        "1.   Convert Capital Letters to Little Ones (English words)\n",
        "2.   Delete Punctuations, etc.\n",
        "3.   Delete Stop Words\n",
        "4.   Find Origination of words\n",
        "5.   Provide a list of remaind words\n",
        "6.   Find TF-IDF vector\n",
        "\n",
        "**Note: Weight of each token should be determined using train data**\n"
      ],
      "metadata": {
        "id": "P706-5oNeBrc"
      }
    },
    {
      "cell_type": "markdown",
      "source": [
        "### Vector Creation"
      ],
      "metadata": {
        "id": "FfshcVKy4-U7"
      }
    },
    {
      "cell_type": "code",
      "source": [
        "vectorizer = TfidfVectorizer(max_features=100)\n",
        "\n",
        "\n",
        "train_tfidf = vectorizer.fit_transform(x_train['Phrase'])\n",
        "test_tfidf = vectorizer.fit_transform(x_test['Phrase'])\n",
        "valid_tfidf = vectorizer.fit_transform(x_valid['Phrase'])\n",
        "\n",
        "x_train_scaled_tfidf = train_tfidf.toarray()\n",
        "x_test_scaled_tfidf = test_tfidf.toarray()\n",
        "x_valid_scaled_tfidf = valid_tfidf.toarray()"
      ],
      "metadata": {
        "id": "3Fy0tj5C3d2A"
      },
      "execution_count": null,
      "outputs": []
    },
    {
      "cell_type": "markdown",
      "source": [
        "## Second Approach: Using Ready Tools"
      ],
      "metadata": {
        "id": "in7A6btnd0dP"
      }
    },
    {
      "cell_type": "markdown",
      "source": [
        "What to do?\n",
        "We want to use one of the following models:\n",
        "1.  Word2Vec\n",
        "2.  FastText\n",
        "3.  GloVe\n",
        "\n",
        "These are the models that are frequently used in NLP areas for deature extraction from words and statements."
      ],
      "metadata": {
        "id": "C2_0-BP9e9vG"
      }
    },
    {
      "cell_type": "markdown",
      "source": [
        "### Vector Creation"
      ],
      "metadata": {
        "id": "tsKEtz9o1wxO"
      }
    },
    {
      "cell_type": "code",
      "source": [
        "# Create a file containing training data\n",
        "train_file_unsupervised = 'train_unsupervised.txt'\n",
        "with open(train_file_unsupervised, 'w', encoding='utf-8') as f:\n",
        "    for row in x_train.iterrows():\n",
        "        f.write(row[1][2] + '\\n')"
      ],
      "metadata": {
        "id": "p264f9XL10Xt"
      },
      "execution_count": null,
      "outputs": []
    },
    {
      "cell_type": "code",
      "source": [
        "# Train FastText model\n",
        "model_unsuervised = fasttext.train_unsupervised(train_file_unsupervised)"
      ],
      "metadata": {
        "id": "7UOpOGkx11dG"
      },
      "execution_count": null,
      "outputs": []
    },
    {
      "cell_type": "code",
      "source": [
        "# Function to extract FastText vectors for a given text\n",
        "def extract_vectors(text):\n",
        "    return model_unsuervised.get_sentence_vector(text)\n",
        "\n",
        "# Extract vectors for training data\n",
        "train_vectors = [extract_vectors(row[1][2]) for row in x_train.iterrows()]\n",
        "\n",
        "# Extract vectors for test data\n",
        "test_vectors = [extract_vectors(row[1][2]) for row in x_test.iterrows()]\n",
        "\n",
        "# Extract vectors for validation data\n",
        "valid_vectors = [extract_vectors(row[1][2]) for row in x_valid.iterrows()]\n"
      ],
      "metadata": {
        "id": "-Z-WSL3W1Q8W"
      },
      "execution_count": null,
      "outputs": []
    },
    {
      "cell_type": "code",
      "source": [
        "print(len(train_vectors))\n",
        "print(len(test_vectors))\n",
        "print(len(valid_vectors))"
      ],
      "metadata": {
        "colab": {
          "base_uri": "https://localhost:8080/"
        },
        "id": "dYPj1ptr3KOe",
        "outputId": "c273ce75-aa08-49d6-de03-9b887c5840cb"
      },
      "execution_count": null,
      "outputs": [
        {
          "output_type": "stream",
          "name": "stdout",
          "text": [
            "124038\n",
            "15505\n",
            "15505\n"
          ]
        }
      ]
    },
    {
      "cell_type": "markdown",
      "source": [
        "### Normalize Vectors"
      ],
      "metadata": {
        "id": "J4zlgqbFHgJw"
      }
    },
    {
      "cell_type": "code",
      "source": [
        "scaler = preprocessing.StandardScaler().fit(train_vectors)\n",
        "x_train_scaled = scaler.transform(train_vectors)\n",
        "\n",
        "x_test_scaled = scaler.transform(test_vectors)\n",
        "\n",
        "x_valid_scaled = scaler.transform(valid_vectors)"
      ],
      "metadata": {
        "id": "R-tfgSlTHeng"
      },
      "execution_count": null,
      "outputs": []
    },
    {
      "cell_type": "markdown",
      "source": [
        "# Train the Models - First Approach"
      ],
      "metadata": {
        "id": "fbugdK-l9IKA"
      }
    },
    {
      "cell_type": "markdown",
      "source": [
        "## Logistic Regression\n"
      ],
      "metadata": {
        "id": "SttIcl8b9IKH"
      }
    },
    {
      "cell_type": "code",
      "source": [
        "x_train_scaled_tfidf.shape"
      ],
      "metadata": {
        "colab": {
          "base_uri": "https://localhost:8080/"
        },
        "id": "qOGtHptfHJ3R",
        "outputId": "28cfc477-309a-43c9-d92f-6dac39900ccd"
      },
      "execution_count": null,
      "outputs": [
        {
          "output_type": "execute_result",
          "data": {
            "text/plain": [
              "(124038, 100)"
            ]
          },
          "metadata": {},
          "execution_count": 22
        }
      ]
    },
    {
      "cell_type": "code",
      "source": [
        "best_accuracy_lg_model_tfidf = 0.0\n",
        "best_lg_model_tfidf = None\n",
        "\n",
        "\n",
        "for c in [0.1, 1, 2]:\n",
        "  for penalty in ['l1', 'l2']:\n",
        "    for max_iter in [1000, 2000]:\n",
        "      print('*')\n",
        "      # Define Logistic Regression model and set hyperparameters\n",
        "      lg_model = LogisticRegression(C=1.0, penalty='l2', max_iter=2000)\n",
        "\n",
        "      # Train the Logistic Regression model\n",
        "      lg_model.fit(x_train_scaled_tfidf, y_train)\n",
        "\n",
        "      # Predict using the trained model\n",
        "      predictions = lg_model.predict(x_valid_scaled_tfidf)\n",
        "      accuracy = accuracy_score(y_valid, predictions)\n",
        "\n",
        "      if accuracy > best_accuracy_lg_model_tfidf:\n",
        "        best_accuracy_lg_model_tfidf = accuracy\n",
        "        best_lg_model_tfidf = lg_model\n",
        "\n",
        "\n",
        "\n"
      ],
      "metadata": {
        "colab": {
          "base_uri": "https://localhost:8080/"
        },
        "id": "O9yw0B1p9IKH",
        "outputId": "bd642e5d-a8b2-4eb7-fbaf-e92178630dac"
      },
      "execution_count": null,
      "outputs": [
        {
          "output_type": "stream",
          "name": "stdout",
          "text": [
            "*\n",
            "*\n",
            "*\n",
            "*\n",
            "*\n",
            "*\n",
            "*\n",
            "*\n",
            "*\n",
            "*\n",
            "*\n",
            "*\n"
          ]
        }
      ]
    },
    {
      "cell_type": "markdown",
      "source": [
        "## SVM"
      ],
      "metadata": {
        "id": "9CZZvP0X9IKI"
      }
    },
    {
      "cell_type": "code",
      "source": [
        "'''This code takes long time to RUN!'''\n",
        "\n",
        "\n",
        "# from sklearn import svm\n",
        "# from sklearn.metrics import accuracy_score\n",
        "\n",
        "# # Normalize or scale FastText vectors if necessary\n",
        "\n",
        "# # Define SVM model and set hyperparameters\n",
        "# model = svm.SVC(kernel='linear', C=10.0)\n",
        "\n",
        "# # Train the SVM model\n",
        "# model.fit(train_vectors, y_train)\n",
        "\n",
        "# # Predict using the trained model\n",
        "# predictions = model.predict(test_vectors)\n",
        "\n",
        "# # Evaluate the model\n",
        "# accuracy = accuracy_score(y_test, predictions)"
      ],
      "metadata": {
        "colab": {
          "base_uri": "https://localhost:8080/",
          "height": 36
        },
        "outputId": "1062e58e-3f2f-4ea7-e8a8-f574f77dfa35",
        "id": "qndsGbko9IKI"
      },
      "execution_count": null,
      "outputs": [
        {
          "output_type": "execute_result",
          "data": {
            "text/plain": [
              "'This code takes long time to RUN!'"
            ],
            "application/vnd.google.colaboratory.intrinsic+json": {
              "type": "string"
            }
          },
          "metadata": {},
          "execution_count": 18
        }
      ]
    },
    {
      "cell_type": "markdown",
      "source": [
        "## Decision Tree"
      ],
      "metadata": {
        "id": "v0eW_Xh49IKI"
      }
    },
    {
      "cell_type": "code",
      "source": [
        "\n",
        "\n",
        "best_accuracy_ldt_model_tfidf = 0.0\n",
        "best_dt_model_tfidf = None\n",
        "for criterion in ['entropy', 'gini']:\n",
        "    for max_d in [3, 30]:\n",
        "      for min_s in [2, 4, 6]:\n",
        "        print('*')\n",
        "\n",
        "        dt_model = DecisionTreeClassifier(max_depth=max_d, min_samples_split=min_s, criterion=criterion)\n",
        "\n",
        "        dt_model.fit(x_train_scaled_tfidf, y_train)\n",
        "\n",
        "        predictions = dt_model.predict(x_valid_scaled_tfidf)\n",
        "\n",
        "        accuracy = accuracy_score(y_valid, predictions)\n",
        "\n",
        "        if accuracy > best_accuracy_ldt_model_tfidf:\n",
        "          best_accuracy_ldt_model_tfidf = accuracy\n",
        "          best_dt_model_tfidf = dt_model\n"
      ],
      "metadata": {
        "colab": {
          "base_uri": "https://localhost:8080/"
        },
        "id": "QOHG-tzL9IKI",
        "outputId": "e4aae144-a311-47ba-81e0-ebffed6e6fb1"
      },
      "execution_count": 61,
      "outputs": [
        {
          "output_type": "stream",
          "name": "stdout",
          "text": [
            "*\n",
            "*\n",
            "*\n",
            "*\n",
            "*\n",
            "*\n",
            "*\n",
            "*\n",
            "*\n",
            "*\n",
            "*\n",
            "*\n"
          ]
        }
      ]
    },
    {
      "cell_type": "code",
      "source": [
        "best_accuracy_ldt_model_tfidf"
      ],
      "metadata": {
        "colab": {
          "base_uri": "https://localhost:8080/"
        },
        "outputId": "eb7f84e6-0fc8-40bb-d5be-014c71019cdd",
        "id": "isMEZoVb9IKI"
      },
      "execution_count": null,
      "outputs": [
        {
          "output_type": "execute_result",
          "data": {
            "text/plain": [
              "0.5036439858110286"
            ]
          },
          "metadata": {},
          "execution_count": 31
        }
      ]
    },
    {
      "cell_type": "markdown",
      "source": [
        "## AdaBoost"
      ],
      "metadata": {
        "id": "GRGMBRWv9IKI"
      }
    },
    {
      "cell_type": "code",
      "source": [
        "\n",
        "\n",
        "base_classifier = DecisionTreeClassifier(max_depth=3)\n",
        "\n",
        "adaboost_model_tfidf = AdaBoostClassifier(base_estimator=base_classifier, n_estimators=50)\n",
        "\n",
        "adaboost_model_tfidf.fit(x_train_scaled_tfidf, y_train)\n",
        "\n"
      ],
      "metadata": {
        "colab": {
          "base_uri": "https://localhost:8080/",
          "height": 154
        },
        "outputId": "682a22bd-4cd1-4210-865a-ed0119c4735c",
        "id": "ZP1Lf1Mo9IKJ"
      },
      "execution_count": null,
      "outputs": [
        {
          "output_type": "stream",
          "name": "stderr",
          "text": [
            "/usr/local/lib/python3.10/dist-packages/sklearn/ensemble/_base.py:166: FutureWarning: `base_estimator` was renamed to `estimator` in version 1.2 and will be removed in 1.4.\n",
            "  warnings.warn(\n"
          ]
        },
        {
          "output_type": "execute_result",
          "data": {
            "text/plain": [
              "AdaBoostClassifier(base_estimator=DecisionTreeClassifier(max_depth=3))"
            ],
            "text/html": [
              "<style>#sk-container-id-1 {color: black;background-color: white;}#sk-container-id-1 pre{padding: 0;}#sk-container-id-1 div.sk-toggleable {background-color: white;}#sk-container-id-1 label.sk-toggleable__label {cursor: pointer;display: block;width: 100%;margin-bottom: 0;padding: 0.3em;box-sizing: border-box;text-align: center;}#sk-container-id-1 label.sk-toggleable__label-arrow:before {content: \"▸\";float: left;margin-right: 0.25em;color: #696969;}#sk-container-id-1 label.sk-toggleable__label-arrow:hover:before {color: black;}#sk-container-id-1 div.sk-estimator:hover label.sk-toggleable__label-arrow:before {color: black;}#sk-container-id-1 div.sk-toggleable__content {max-height: 0;max-width: 0;overflow: hidden;text-align: left;background-color: #f0f8ff;}#sk-container-id-1 div.sk-toggleable__content pre {margin: 0.2em;color: black;border-radius: 0.25em;background-color: #f0f8ff;}#sk-container-id-1 input.sk-toggleable__control:checked~div.sk-toggleable__content {max-height: 200px;max-width: 100%;overflow: auto;}#sk-container-id-1 input.sk-toggleable__control:checked~label.sk-toggleable__label-arrow:before {content: \"▾\";}#sk-container-id-1 div.sk-estimator input.sk-toggleable__control:checked~label.sk-toggleable__label {background-color: #d4ebff;}#sk-container-id-1 div.sk-label input.sk-toggleable__control:checked~label.sk-toggleable__label {background-color: #d4ebff;}#sk-container-id-1 input.sk-hidden--visually {border: 0;clip: rect(1px 1px 1px 1px);clip: rect(1px, 1px, 1px, 1px);height: 1px;margin: -1px;overflow: hidden;padding: 0;position: absolute;width: 1px;}#sk-container-id-1 div.sk-estimator {font-family: monospace;background-color: #f0f8ff;border: 1px dotted black;border-radius: 0.25em;box-sizing: border-box;margin-bottom: 0.5em;}#sk-container-id-1 div.sk-estimator:hover {background-color: #d4ebff;}#sk-container-id-1 div.sk-parallel-item::after {content: \"\";width: 100%;border-bottom: 1px solid gray;flex-grow: 1;}#sk-container-id-1 div.sk-label:hover label.sk-toggleable__label {background-color: #d4ebff;}#sk-container-id-1 div.sk-serial::before {content: \"\";position: absolute;border-left: 1px solid gray;box-sizing: border-box;top: 0;bottom: 0;left: 50%;z-index: 0;}#sk-container-id-1 div.sk-serial {display: flex;flex-direction: column;align-items: center;background-color: white;padding-right: 0.2em;padding-left: 0.2em;position: relative;}#sk-container-id-1 div.sk-item {position: relative;z-index: 1;}#sk-container-id-1 div.sk-parallel {display: flex;align-items: stretch;justify-content: center;background-color: white;position: relative;}#sk-container-id-1 div.sk-item::before, #sk-container-id-1 div.sk-parallel-item::before {content: \"\";position: absolute;border-left: 1px solid gray;box-sizing: border-box;top: 0;bottom: 0;left: 50%;z-index: -1;}#sk-container-id-1 div.sk-parallel-item {display: flex;flex-direction: column;z-index: 1;position: relative;background-color: white;}#sk-container-id-1 div.sk-parallel-item:first-child::after {align-self: flex-end;width: 50%;}#sk-container-id-1 div.sk-parallel-item:last-child::after {align-self: flex-start;width: 50%;}#sk-container-id-1 div.sk-parallel-item:only-child::after {width: 0;}#sk-container-id-1 div.sk-dashed-wrapped {border: 1px dashed gray;margin: 0 0.4em 0.5em 0.4em;box-sizing: border-box;padding-bottom: 0.4em;background-color: white;}#sk-container-id-1 div.sk-label label {font-family: monospace;font-weight: bold;display: inline-block;line-height: 1.2em;}#sk-container-id-1 div.sk-label-container {text-align: center;}#sk-container-id-1 div.sk-container {/* jupyter's `normalize.less` sets `[hidden] { display: none; }` but bootstrap.min.css set `[hidden] { display: none !important; }` so we also need the `!important` here to be able to override the default hidden behavior on the sphinx rendered scikit-learn.org. See: https://github.com/scikit-learn/scikit-learn/issues/21755 */display: inline-block !important;position: relative;}#sk-container-id-1 div.sk-text-repr-fallback {display: none;}</style><div id=\"sk-container-id-1\" class=\"sk-top-container\"><div class=\"sk-text-repr-fallback\"><pre>AdaBoostClassifier(base_estimator=DecisionTreeClassifier(max_depth=3))</pre><b>In a Jupyter environment, please rerun this cell to show the HTML representation or trust the notebook. <br />On GitHub, the HTML representation is unable to render, please try loading this page with nbviewer.org.</b></div><div class=\"sk-container\" hidden><div class=\"sk-item sk-dashed-wrapped\"><div class=\"sk-label-container\"><div class=\"sk-label sk-toggleable\"><input class=\"sk-toggleable__control sk-hidden--visually\" id=\"sk-estimator-id-1\" type=\"checkbox\" ><label for=\"sk-estimator-id-1\" class=\"sk-toggleable__label sk-toggleable__label-arrow\">AdaBoostClassifier</label><div class=\"sk-toggleable__content\"><pre>AdaBoostClassifier(base_estimator=DecisionTreeClassifier(max_depth=3))</pre></div></div></div><div class=\"sk-parallel\"><div class=\"sk-parallel-item\"><div class=\"sk-item\"><div class=\"sk-label-container\"><div class=\"sk-label sk-toggleable\"><input class=\"sk-toggleable__control sk-hidden--visually\" id=\"sk-estimator-id-2\" type=\"checkbox\" ><label for=\"sk-estimator-id-2\" class=\"sk-toggleable__label sk-toggleable__label-arrow\">base_estimator: DecisionTreeClassifier</label><div class=\"sk-toggleable__content\"><pre>DecisionTreeClassifier(max_depth=3)</pre></div></div></div><div class=\"sk-serial\"><div class=\"sk-item\"><div class=\"sk-estimator sk-toggleable\"><input class=\"sk-toggleable__control sk-hidden--visually\" id=\"sk-estimator-id-3\" type=\"checkbox\" ><label for=\"sk-estimator-id-3\" class=\"sk-toggleable__label sk-toggleable__label-arrow\">DecisionTreeClassifier</label><div class=\"sk-toggleable__content\"><pre>DecisionTreeClassifier(max_depth=3)</pre></div></div></div></div></div></div></div></div></div></div>"
            ]
          },
          "metadata": {},
          "execution_count": 32
        }
      ]
    },
    {
      "cell_type": "markdown",
      "source": [
        "## Simple Neural Network Model"
      ],
      "metadata": {
        "id": "ZcEI1sBC9IKJ"
      }
    },
    {
      "cell_type": "code",
      "source": [
        "\n",
        "\n",
        "nn_model_tfidf = keras.Sequential()\n",
        "nn_model_tfidf.add(keras.layers.Dense(64, activation='relu', input_shape=(x_train_scaled_tfidf.shape[1],)))\n",
        "nn_model_tfidf.add(keras.layers.Dense(32, activation='relu'))\n",
        "nn_model_tfidf.add(keras.layers.Dense(5, activation='softmax'))\n",
        "\n",
        "# Compile the model\n",
        "nn_model_tfidf.compile(optimizer='adam', loss='sparse_categorical_crossentropy', metrics=['accuracy'])\n",
        "\n",
        "# Train the model\n",
        "nn_model_tfidf.fit(x_train_scaled_tfidf, y_train, validation_data=(x_valid_scaled_tfidf, y_valid), epochs=30, batch_size=32)\n"
      ],
      "metadata": {
        "colab": {
          "base_uri": "https://localhost:8080/"
        },
        "id": "Yoww0US99IKJ",
        "outputId": "3741eedb-13fe-4de4-d642-65900446f712"
      },
      "execution_count": null,
      "outputs": [
        {
          "output_type": "stream",
          "name": "stdout",
          "text": [
            "Epoch 1/30\n",
            "3877/3877 [==============================] - 12s 3ms/step - loss: 1.2091 - accuracy: 0.5249 - val_loss: 1.4291 - val_accuracy: 0.3528\n",
            "Epoch 2/30\n",
            "3877/3877 [==============================] - 9s 2ms/step - loss: 1.1912 - accuracy: 0.5327 - val_loss: 1.4813 - val_accuracy: 0.3607\n",
            "Epoch 3/30\n",
            "3877/3877 [==============================] - 8s 2ms/step - loss: 1.1851 - accuracy: 0.5363 - val_loss: 1.5259 - val_accuracy: 0.3608\n",
            "Epoch 4/30\n",
            "3877/3877 [==============================] - 9s 2ms/step - loss: 1.1793 - accuracy: 0.5398 - val_loss: 1.6493 - val_accuracy: 0.3592\n",
            "Epoch 5/30\n",
            "3877/3877 [==============================] - 9s 2ms/step - loss: 1.1740 - accuracy: 0.5426 - val_loss: 1.6343 - val_accuracy: 0.3589\n",
            "Epoch 6/30\n",
            "3877/3877 [==============================] - 9s 2ms/step - loss: 1.1696 - accuracy: 0.5449 - val_loss: 1.8300 - val_accuracy: 0.3349\n",
            "Epoch 7/30\n",
            "3877/3877 [==============================] - 9s 2ms/step - loss: 1.1659 - accuracy: 0.5459 - val_loss: 1.8485 - val_accuracy: 0.3339\n",
            "Epoch 8/30\n",
            "3877/3877 [==============================] - 10s 3ms/step - loss: 1.1627 - accuracy: 0.5475 - val_loss: 1.8227 - val_accuracy: 0.3356\n",
            "Epoch 9/30\n",
            "3877/3877 [==============================] - 8s 2ms/step - loss: 1.1598 - accuracy: 0.5490 - val_loss: 1.9262 - val_accuracy: 0.3368\n",
            "Epoch 10/30\n",
            "3877/3877 [==============================] - 9s 2ms/step - loss: 1.1575 - accuracy: 0.5496 - val_loss: 1.8757 - val_accuracy: 0.3309\n",
            "Epoch 11/30\n",
            "3877/3877 [==============================] - 9s 2ms/step - loss: 1.1552 - accuracy: 0.5500 - val_loss: 1.9909 - val_accuracy: 0.3369\n",
            "Epoch 12/30\n",
            "3877/3877 [==============================] - 9s 2ms/step - loss: 1.1529 - accuracy: 0.5521 - val_loss: 2.2611 - val_accuracy: 0.3340\n",
            "Epoch 13/30\n",
            "3877/3877 [==============================] - 10s 3ms/step - loss: 1.1507 - accuracy: 0.5525 - val_loss: 1.9264 - val_accuracy: 0.3374\n",
            "Epoch 14/30\n",
            "3877/3877 [==============================] - 10s 3ms/step - loss: 1.1494 - accuracy: 0.5531 - val_loss: 2.1321 - val_accuracy: 0.3379\n",
            "Epoch 15/30\n",
            "3877/3877 [==============================] - 9s 2ms/step - loss: 1.1479 - accuracy: 0.5536 - val_loss: 2.0655 - val_accuracy: 0.3339\n",
            "Epoch 16/30\n",
            "3877/3877 [==============================] - 8s 2ms/step - loss: 1.1470 - accuracy: 0.5542 - val_loss: 2.2940 - val_accuracy: 0.3358\n",
            "Epoch 17/30\n",
            "3877/3877 [==============================] - 9s 2ms/step - loss: 1.1451 - accuracy: 0.5548 - val_loss: 2.2755 - val_accuracy: 0.3309\n",
            "Epoch 18/30\n",
            "3877/3877 [==============================] - 8s 2ms/step - loss: 1.1442 - accuracy: 0.5553 - val_loss: 2.3881 - val_accuracy: 0.3361\n",
            "Epoch 19/30\n",
            "3877/3877 [==============================] - 9s 2ms/step - loss: 1.1434 - accuracy: 0.5558 - val_loss: 2.1228 - val_accuracy: 0.3335\n",
            "Epoch 20/30\n",
            "3877/3877 [==============================] - 9s 2ms/step - loss: 1.1418 - accuracy: 0.5558 - val_loss: 2.1819 - val_accuracy: 0.3350\n",
            "Epoch 21/30\n",
            "3877/3877 [==============================] - 9s 2ms/step - loss: 1.1409 - accuracy: 0.5567 - val_loss: 2.1534 - val_accuracy: 0.3333\n",
            "Epoch 22/30\n",
            "3877/3877 [==============================] - 9s 2ms/step - loss: 1.1399 - accuracy: 0.5574 - val_loss: 2.2435 - val_accuracy: 0.3347\n",
            "Epoch 23/30\n",
            "3877/3877 [==============================] - 9s 2ms/step - loss: 1.1390 - accuracy: 0.5581 - val_loss: 2.3700 - val_accuracy: 0.3340\n",
            "Epoch 24/30\n",
            "3877/3877 [==============================] - 9s 2ms/step - loss: 1.1384 - accuracy: 0.5580 - val_loss: 2.3253 - val_accuracy: 0.3305\n",
            "Epoch 25/30\n",
            "3877/3877 [==============================] - 10s 2ms/step - loss: 1.1376 - accuracy: 0.5584 - val_loss: 2.3000 - val_accuracy: 0.3324\n",
            "Epoch 26/30\n",
            "3877/3877 [==============================] - 9s 2ms/step - loss: 1.1367 - accuracy: 0.5583 - val_loss: 2.3712 - val_accuracy: 0.3342\n",
            "Epoch 27/30\n",
            "3877/3877 [==============================] - 10s 3ms/step - loss: 1.1362 - accuracy: 0.5589 - val_loss: 2.5042 - val_accuracy: 0.3325\n",
            "Epoch 28/30\n",
            "3877/3877 [==============================] - 9s 2ms/step - loss: 1.1354 - accuracy: 0.5590 - val_loss: 2.3311 - val_accuracy: 0.3345\n",
            "Epoch 29/30\n",
            "3877/3877 [==============================] - 9s 2ms/step - loss: 1.1345 - accuracy: 0.5591 - val_loss: 2.4326 - val_accuracy: 0.3347\n",
            "Epoch 30/30\n",
            "3877/3877 [==============================] - 9s 2ms/step - loss: 1.1340 - accuracy: 0.5591 - val_loss: 2.3542 - val_accuracy: 0.3325\n"
          ]
        },
        {
          "output_type": "execute_result",
          "data": {
            "text/plain": [
              "<keras.callbacks.History at 0x7f40061ab070>"
            ]
          },
          "metadata": {},
          "execution_count": 34
        }
      ]
    },
    {
      "cell_type": "markdown",
      "source": [
        "## Deep Neural Network"
      ],
      "metadata": {
        "id": "xjNfYElf9IKJ"
      }
    },
    {
      "cell_type": "code",
      "source": [
        "# Define NN model architecture\n",
        "deep_tfidf = keras.Sequential()\n",
        "deep_tfidf.add(keras.layers.Dense(512, activation='relu', input_shape=(x_train_scaled_tfidf.shape[1],)))\n",
        "deep_tfidf.add(keras.layers.Dropout(0.2))  # reduce overfitting\n",
        "deep_tfidf.add(keras.layers.Dense(256, activation='relu'))\n",
        "deep_tfidf.add(keras.layers.Dropout(0.2))\n",
        "deep_tfidf.add(keras.layers.Dense(128, activation='relu'))\n",
        "deep_tfidf.add(keras.layers.BatchNormalization())  # improved training stability\n",
        "deep_tfidf.add(keras.layers.Dense(64, activation='relu'))\n",
        "deep_tfidf.add(keras.layers.Dropout(0.2))\n",
        "deep_tfidf.add(keras.layers.Dense(32, activation='relu'))\n",
        "deep_tfidf.add(keras.layers.Dropout(0.2))\n",
        "deep_tfidf.add(keras.layers.Dense(5, activation='softmax'))  # softmax activation\n",
        "\n",
        "\n",
        "deep_tfidf.compile(optimizer='adam', loss='sparse_categorical_crossentropy', metrics=['accuracy'])\n",
        "\n",
        "deep_tfidf.fit(x_train_scaled_tfidf, y_train, validation_data=(x_valid_scaled_tfidf, y_valid), epochs=30, batch_size=64)\n",
        "\n"
      ],
      "metadata": {
        "colab": {
          "base_uri": "https://localhost:8080/"
        },
        "outputId": "2943e56d-03ea-4605-8c22-11b97d489366",
        "id": "VO26yPRA9IKJ"
      },
      "execution_count": null,
      "outputs": [
        {
          "output_type": "stream",
          "name": "stdout",
          "text": [
            "Epoch 1/30\n",
            "1939/1939 [==============================] - 29s 11ms/step - loss: 1.2394 - accuracy: 0.5142 - val_loss: 1.4103 - val_accuracy: 0.3600\n",
            "Epoch 2/30\n",
            "1939/1939 [==============================] - 21s 11ms/step - loss: 1.2117 - accuracy: 0.5232 - val_loss: 1.4236 - val_accuracy: 0.3603\n",
            "Epoch 3/30\n",
            "1939/1939 [==============================] - 20s 11ms/step - loss: 1.2017 - accuracy: 0.5284 - val_loss: 1.4943 - val_accuracy: 0.3566\n",
            "Epoch 4/30\n",
            "1939/1939 [==============================] - 23s 12ms/step - loss: 1.1928 - accuracy: 0.5333 - val_loss: 1.6196 - val_accuracy: 0.3317\n",
            "Epoch 5/30\n",
            "1939/1939 [==============================] - 23s 12ms/step - loss: 1.1847 - accuracy: 0.5378 - val_loss: 1.5280 - val_accuracy: 0.3605\n",
            "Epoch 6/30\n",
            "1939/1939 [==============================] - 20s 10ms/step - loss: 1.1774 - accuracy: 0.5413 - val_loss: 1.5910 - val_accuracy: 0.3347\n",
            "Epoch 7/30\n",
            "1939/1939 [==============================] - 21s 11ms/step - loss: 1.1724 - accuracy: 0.5427 - val_loss: 1.5472 - val_accuracy: 0.3369\n",
            "Epoch 8/30\n",
            "1939/1939 [==============================] - 21s 11ms/step - loss: 1.1685 - accuracy: 0.5453 - val_loss: 1.5981 - val_accuracy: 0.3610\n",
            "Epoch 9/30\n",
            "1939/1939 [==============================] - 21s 11ms/step - loss: 1.1638 - accuracy: 0.5472 - val_loss: 1.5801 - val_accuracy: 0.3363\n",
            "Epoch 10/30\n",
            "1939/1939 [==============================] - 21s 11ms/step - loss: 1.1614 - accuracy: 0.5485 - val_loss: 1.7407 - val_accuracy: 0.3381\n",
            "Epoch 11/30\n",
            "1939/1939 [==============================] - 20s 11ms/step - loss: 1.1579 - accuracy: 0.5496 - val_loss: 1.5660 - val_accuracy: 0.3351\n",
            "Epoch 12/30\n",
            "1939/1939 [==============================] - 23s 12ms/step - loss: 1.1562 - accuracy: 0.5517 - val_loss: 1.7294 - val_accuracy: 0.3311\n",
            "Epoch 13/30\n",
            "1939/1939 [==============================] - 22s 11ms/step - loss: 1.1538 - accuracy: 0.5515 - val_loss: 1.6051 - val_accuracy: 0.3591\n",
            "Epoch 14/30\n",
            "1939/1939 [==============================] - 21s 11ms/step - loss: 1.1521 - accuracy: 0.5524 - val_loss: 1.5463 - val_accuracy: 0.3597\n",
            "Epoch 15/30\n",
            "1939/1939 [==============================] - 22s 11ms/step - loss: 1.1494 - accuracy: 0.5548 - val_loss: 1.5295 - val_accuracy: 0.3630\n",
            "Epoch 16/30\n",
            "1939/1939 [==============================] - 22s 11ms/step - loss: 1.1470 - accuracy: 0.5550 - val_loss: 1.6491 - val_accuracy: 0.3567\n",
            "Epoch 17/30\n",
            "1939/1939 [==============================] - 37s 19ms/step - loss: 1.1453 - accuracy: 0.5562 - val_loss: 1.5408 - val_accuracy: 0.3597\n",
            "Epoch 18/30\n",
            "1939/1939 [==============================] - 34s 18ms/step - loss: 1.1442 - accuracy: 0.5559 - val_loss: 1.6608 - val_accuracy: 0.3334\n",
            "Epoch 19/30\n",
            "1939/1939 [==============================] - 31s 16ms/step - loss: 1.1420 - accuracy: 0.5568 - val_loss: 1.5770 - val_accuracy: 0.3343\n",
            "Epoch 20/30\n",
            "1939/1939 [==============================] - 26s 13ms/step - loss: 1.1408 - accuracy: 0.5575 - val_loss: 1.6181 - val_accuracy: 0.3331\n",
            "Epoch 21/30\n",
            "1939/1939 [==============================] - 21s 11ms/step - loss: 1.1400 - accuracy: 0.5574 - val_loss: 1.5837 - val_accuracy: 0.3585\n",
            "Epoch 22/30\n",
            "1939/1939 [==============================] - 21s 11ms/step - loss: 1.1379 - accuracy: 0.5579 - val_loss: 1.7949 - val_accuracy: 0.3322\n",
            "Epoch 23/30\n",
            "1939/1939 [==============================] - 21s 11ms/step - loss: 1.1375 - accuracy: 0.5579 - val_loss: 1.6061 - val_accuracy: 0.3609\n",
            "Epoch 24/30\n",
            "1939/1939 [==============================] - 20s 10ms/step - loss: 1.1352 - accuracy: 0.5595 - val_loss: 1.6083 - val_accuracy: 0.3530\n",
            "Epoch 25/30\n",
            "1939/1939 [==============================] - 21s 11ms/step - loss: 1.1345 - accuracy: 0.5598 - val_loss: 1.6599 - val_accuracy: 0.3543\n",
            "Epoch 26/30\n",
            "1939/1939 [==============================] - 20s 10ms/step - loss: 1.1332 - accuracy: 0.5592 - val_loss: 1.7029 - val_accuracy: 0.3560\n",
            "Epoch 27/30\n",
            "1939/1939 [==============================] - 22s 12ms/step - loss: 1.1330 - accuracy: 0.5602 - val_loss: 1.6696 - val_accuracy: 0.3589\n",
            "Epoch 28/30\n",
            "1939/1939 [==============================] - 22s 12ms/step - loss: 1.1304 - accuracy: 0.5612 - val_loss: 1.6745 - val_accuracy: 0.3550\n",
            "Epoch 29/30\n",
            "1939/1939 [==============================] - 21s 11ms/step - loss: 1.1295 - accuracy: 0.5614 - val_loss: 1.6574 - val_accuracy: 0.3538\n",
            "Epoch 30/30\n",
            "1939/1939 [==============================] - 24s 12ms/step - loss: 1.1296 - accuracy: 0.5614 - val_loss: 1.7774 - val_accuracy: 0.3545\n"
          ]
        },
        {
          "output_type": "execute_result",
          "data": {
            "text/plain": [
              "<keras.callbacks.History at 0x7f4112f13550>"
            ]
          },
          "metadata": {},
          "execution_count": 36
        }
      ]
    },
    {
      "cell_type": "markdown",
      "source": [
        "# Evaluate the Models - First Approach"
      ],
      "metadata": {
        "id": "YXTM0DLV9IKK"
      }
    },
    {
      "cell_type": "code",
      "source": [
        "# Logistic Regression\n",
        "print('- - - - - - - \\nLogistic Regression Model')\n",
        "lg_preds = best_lg_model_tfidf.predict(x_test_scaled_tfidf)\n",
        "# test_accuracy = accuracy_score(y_test, lg_preds)\n",
        "# print(\"Test Accuracy:\", test_accuracy)\n",
        "report = classification_report(y_test, lg_preds)\n",
        "print(report)"
      ],
      "metadata": {
        "colab": {
          "base_uri": "https://localhost:8080/"
        },
        "outputId": "6a39724d-9f36-4d1d-a26f-b19fb92cb03e",
        "id": "kRpaB3o69IKK"
      },
      "execution_count": 78,
      "outputs": [
        {
          "output_type": "stream",
          "name": "stdout",
          "text": [
            "- - - - - - - \n",
            "Logistic Regression Model\n",
            "              precision    recall  f1-score   support\n",
            "\n",
            "           0       0.00      0.00      0.00       709\n",
            "           1       0.29      0.06      0.09      2715\n",
            "           2       0.54      0.91      0.68      7905\n",
            "           3       0.29      0.15      0.20      3250\n",
            "           4       0.33      0.01      0.01       926\n",
            "\n",
            "    accuracy                           0.50     15505\n",
            "   macro avg       0.29      0.22      0.20     15505\n",
            "weighted avg       0.41      0.50      0.41     15505\n",
            "\n"
          ]
        }
      ]
    },
    {
      "cell_type": "code",
      "source": [
        "# SVM\n",
        "'''It took long time to execute and didn't finish (crashed colab)'''"
      ],
      "metadata": {
        "id": "-SD0LZN59IKK"
      },
      "execution_count": null,
      "outputs": []
    },
    {
      "cell_type": "code",
      "source": [
        "# Decision Tree\n",
        "print('- - - - - - - \\nDecision Tree Model')\n",
        "dt_preds = best_dt_model_tfidf.predict(x_test_scaled_tfidf)\n",
        "# test_accuracy = accuracy_score(y_test, dt_preds)\n",
        "# print(\"Test Accuracy:\", test_accuracy)\n",
        "report = classification_report(y_test, dt_preds)\n",
        "print(report)"
      ],
      "metadata": {
        "colab": {
          "base_uri": "https://localhost:8080/"
        },
        "outputId": "f5814ba5-0e54-4bd6-997b-5f801e5d0947",
        "id": "4MkE_yBx9IKK"
      },
      "execution_count": 76,
      "outputs": [
        {
          "output_type": "stream",
          "name": "stdout",
          "text": [
            "- - - - - - - \n",
            "Decision Tree Model\n",
            "              precision    recall  f1-score   support\n",
            "\n",
            "           0       0.00      0.00      0.00       709\n",
            "           1       0.34      0.05      0.09      2715\n",
            "           2       0.52      0.98      0.68      7905\n",
            "           3       0.00      0.00      0.00      3250\n",
            "           4       0.00      0.00      0.00       926\n",
            "\n",
            "    accuracy                           0.51     15505\n",
            "   macro avg       0.17      0.21      0.15     15505\n",
            "weighted avg       0.32      0.51      0.36     15505\n",
            "\n"
          ]
        },
        {
          "output_type": "stream",
          "name": "stderr",
          "text": [
            "/usr/local/lib/python3.10/dist-packages/sklearn/metrics/_classification.py:1344: UndefinedMetricWarning: Precision and F-score are ill-defined and being set to 0.0 in labels with no predicted samples. Use `zero_division` parameter to control this behavior.\n",
            "  _warn_prf(average, modifier, msg_start, len(result))\n",
            "/usr/local/lib/python3.10/dist-packages/sklearn/metrics/_classification.py:1344: UndefinedMetricWarning: Precision and F-score are ill-defined and being set to 0.0 in labels with no predicted samples. Use `zero_division` parameter to control this behavior.\n",
            "  _warn_prf(average, modifier, msg_start, len(result))\n",
            "/usr/local/lib/python3.10/dist-packages/sklearn/metrics/_classification.py:1344: UndefinedMetricWarning: Precision and F-score are ill-defined and being set to 0.0 in labels with no predicted samples. Use `zero_division` parameter to control this behavior.\n",
            "  _warn_prf(average, modifier, msg_start, len(result))\n"
          ]
        }
      ]
    },
    {
      "cell_type": "code",
      "source": [
        "# Adaboost\n",
        "print('- - - - - - - \\nAdaBoost Model')\n",
        "ab_preds = adaboost_model_tfidf.predict(x_test_scaled_tfidf)\n",
        "# test_accuracy = accuracy_score(y_test, ab_preds)\n",
        "# print(\"Test Accuracy:\", test_accuracy)\n",
        "report = classification_report(y_test, ab_preds)\n",
        "print(report)"
      ],
      "metadata": {
        "colab": {
          "base_uri": "https://localhost:8080/"
        },
        "outputId": "9c2687a1-992a-4984-cad4-87095e484b00",
        "id": "6YQJvl9k9IKK"
      },
      "execution_count": 77,
      "outputs": [
        {
          "output_type": "stream",
          "name": "stdout",
          "text": [
            "- - - - - - - \n",
            "AdaBoost Model\n",
            "              precision    recall  f1-score   support\n",
            "\n",
            "           0       0.04      0.00      0.01       709\n",
            "           1       0.12      0.19      0.15      2715\n",
            "           2       0.46      0.57      0.51      7905\n",
            "           3       0.30      0.13      0.19      3250\n",
            "           4       0.18      0.02      0.03       926\n",
            "\n",
            "    accuracy                           0.36     15505\n",
            "   macro avg       0.22      0.18      0.18     15505\n",
            "weighted avg       0.33      0.36      0.33     15505\n",
            "\n"
          ]
        }
      ]
    },
    {
      "cell_type": "code",
      "source": [
        "# Simple Neural Networks\n",
        "\n",
        "print('- - - - - - - \\nNeural Network Model')\n",
        "predictions = nn_model_tfidf.predict(x_test_scaled_tfidf)\n",
        "nn_preds = [np.argmax(predictions[i]) for i in range(predictions.shape[0])]\n",
        "# test_accuracy = accuracy_score(y_test, nn_preds)\n",
        "# print(\"Test Accuracy:\", test_accuracy)\n",
        "report = classification_report(y_test, nn_preds)\n",
        "print(report)"
      ],
      "metadata": {
        "colab": {
          "base_uri": "https://localhost:8080/"
        },
        "outputId": "b81b5ccd-8c40-4e3d-b671-e91533d1348d",
        "id": "SgaUrqVV9IKL"
      },
      "execution_count": 72,
      "outputs": [
        {
          "output_type": "stream",
          "name": "stdout",
          "text": [
            "- - - - - - - \n",
            "Neural Network Model\n",
            "485/485 [==============================] - 2s 4ms/step\n",
            "              precision    recall  f1-score   support\n",
            "\n",
            "           0       0.04      0.01      0.01       709\n",
            "           1       0.13      0.20      0.16      2715\n",
            "           2       0.47      0.58      0.52      7905\n",
            "           3       0.31      0.11      0.17      3250\n",
            "           4       0.22      0.05      0.09       926\n",
            "\n",
            "    accuracy                           0.36     15505\n",
            "   macro avg       0.23      0.19      0.19     15505\n",
            "weighted avg       0.34      0.36      0.33     15505\n",
            "\n"
          ]
        }
      ]
    },
    {
      "cell_type": "code",
      "source": [
        "# Deep\n",
        "print('- - - - - - - \\nDeep Model')\n",
        "predictions = deep_tfidf.predict(x_test_scaled_tfidf)\n",
        "deep_preds = [np.argmax(predictions[i]) for i in range(predictions.shape[0])]\n",
        "# test_accuracy = accuracy_score(y_test, deep_preds)\n",
        "# print(\"Test Accuracy:\", test_accuracy)\n",
        "report = classification_report(y_test, deep_preds)\n",
        "print(report)"
      ],
      "metadata": {
        "colab": {
          "base_uri": "https://localhost:8080/"
        },
        "outputId": "1b4ba042-e8df-48a4-8fcf-0207506b7aef",
        "id": "N6WFyjbT9IKL"
      },
      "execution_count": 71,
      "outputs": [
        {
          "output_type": "stream",
          "name": "stdout",
          "text": [
            "- - - - - - - \n",
            "Deep Model\n",
            "485/485 [==============================] - 1s 2ms/step\n",
            "Test Accuracy: 0.5039019671073847\n",
            "              precision    recall  f1-score   support\n",
            "\n",
            "           0       0.00      0.00      0.00       709\n",
            "           1       0.27      0.07      0.11      2715\n",
            "           2       0.55      0.89      0.68      7905\n",
            "           3       0.30      0.17      0.22      3250\n",
            "           4       0.14      0.01      0.02       926\n",
            "\n",
            "    accuracy                           0.50     15505\n",
            "   macro avg       0.25      0.23      0.21     15505\n",
            "weighted avg       0.40      0.50      0.41     15505\n",
            "\n"
          ]
        }
      ]
    },
    {
      "cell_type": "code",
      "source": [
        "# RNN"
      ],
      "metadata": {
        "id": "6GerYJ9E9IKL"
      },
      "execution_count": null,
      "outputs": []
    },
    {
      "cell_type": "code",
      "source": [
        "\n",
        "# Create the ensemble model by combining predictions\n",
        "ensemble_predictions = np.vstack((lg_preds, dt_preds, ab_preds)).T\n",
        "\n",
        "# Create the voting classifier for ensemble\n",
        "voting_classifier_tfidf = VotingClassifier(estimators=[\n",
        "    ('lg', best_lg_model_tfidf),\n",
        "    ('dt', best_dt_model_tfidf),\n",
        "    ('ab', adaboost_model_tfidf),\n",
        "    # ('nn', nn_model),\n",
        "    # ('deep', deep)\n",
        "], voting='hard')\n",
        "\n",
        "voting_classifier_tfidf.fit(x_train_scaled_tfidf, y_train)\n",
        "\n"
      ],
      "metadata": {
        "colab": {
          "base_uri": "https://localhost:8080/",
          "height": 187
        },
        "outputId": "7d828ce6-3531-45e4-cb08-6de584947699",
        "id": "U-WesZuK9IKL"
      },
      "execution_count": null,
      "outputs": [
        {
          "output_type": "stream",
          "name": "stderr",
          "text": [
            "/usr/local/lib/python3.10/dist-packages/sklearn/ensemble/_base.py:166: FutureWarning: `base_estimator` was renamed to `estimator` in version 1.2 and will be removed in 1.4.\n",
            "  warnings.warn(\n"
          ]
        },
        {
          "output_type": "execute_result",
          "data": {
            "text/plain": [
              "VotingClassifier(estimators=[('lg', LogisticRegression(max_iter=2000)),\n",
              "                             ('dt', DecisionTreeClassifier(max_depth=3)),\n",
              "                             ('ab',\n",
              "                              AdaBoostClassifier(base_estimator=DecisionTreeClassifier(max_depth=3)))])"
            ],
            "text/html": [
              "<style>#sk-container-id-2 {color: black;background-color: white;}#sk-container-id-2 pre{padding: 0;}#sk-container-id-2 div.sk-toggleable {background-color: white;}#sk-container-id-2 label.sk-toggleable__label {cursor: pointer;display: block;width: 100%;margin-bottom: 0;padding: 0.3em;box-sizing: border-box;text-align: center;}#sk-container-id-2 label.sk-toggleable__label-arrow:before {content: \"▸\";float: left;margin-right: 0.25em;color: #696969;}#sk-container-id-2 label.sk-toggleable__label-arrow:hover:before {color: black;}#sk-container-id-2 div.sk-estimator:hover label.sk-toggleable__label-arrow:before {color: black;}#sk-container-id-2 div.sk-toggleable__content {max-height: 0;max-width: 0;overflow: hidden;text-align: left;background-color: #f0f8ff;}#sk-container-id-2 div.sk-toggleable__content pre {margin: 0.2em;color: black;border-radius: 0.25em;background-color: #f0f8ff;}#sk-container-id-2 input.sk-toggleable__control:checked~div.sk-toggleable__content {max-height: 200px;max-width: 100%;overflow: auto;}#sk-container-id-2 input.sk-toggleable__control:checked~label.sk-toggleable__label-arrow:before {content: \"▾\";}#sk-container-id-2 div.sk-estimator input.sk-toggleable__control:checked~label.sk-toggleable__label {background-color: #d4ebff;}#sk-container-id-2 div.sk-label input.sk-toggleable__control:checked~label.sk-toggleable__label {background-color: #d4ebff;}#sk-container-id-2 input.sk-hidden--visually {border: 0;clip: rect(1px 1px 1px 1px);clip: rect(1px, 1px, 1px, 1px);height: 1px;margin: -1px;overflow: hidden;padding: 0;position: absolute;width: 1px;}#sk-container-id-2 div.sk-estimator {font-family: monospace;background-color: #f0f8ff;border: 1px dotted black;border-radius: 0.25em;box-sizing: border-box;margin-bottom: 0.5em;}#sk-container-id-2 div.sk-estimator:hover {background-color: #d4ebff;}#sk-container-id-2 div.sk-parallel-item::after {content: \"\";width: 100%;border-bottom: 1px solid gray;flex-grow: 1;}#sk-container-id-2 div.sk-label:hover label.sk-toggleable__label {background-color: #d4ebff;}#sk-container-id-2 div.sk-serial::before {content: \"\";position: absolute;border-left: 1px solid gray;box-sizing: border-box;top: 0;bottom: 0;left: 50%;z-index: 0;}#sk-container-id-2 div.sk-serial {display: flex;flex-direction: column;align-items: center;background-color: white;padding-right: 0.2em;padding-left: 0.2em;position: relative;}#sk-container-id-2 div.sk-item {position: relative;z-index: 1;}#sk-container-id-2 div.sk-parallel {display: flex;align-items: stretch;justify-content: center;background-color: white;position: relative;}#sk-container-id-2 div.sk-item::before, #sk-container-id-2 div.sk-parallel-item::before {content: \"\";position: absolute;border-left: 1px solid gray;box-sizing: border-box;top: 0;bottom: 0;left: 50%;z-index: -1;}#sk-container-id-2 div.sk-parallel-item {display: flex;flex-direction: column;z-index: 1;position: relative;background-color: white;}#sk-container-id-2 div.sk-parallel-item:first-child::after {align-self: flex-end;width: 50%;}#sk-container-id-2 div.sk-parallel-item:last-child::after {align-self: flex-start;width: 50%;}#sk-container-id-2 div.sk-parallel-item:only-child::after {width: 0;}#sk-container-id-2 div.sk-dashed-wrapped {border: 1px dashed gray;margin: 0 0.4em 0.5em 0.4em;box-sizing: border-box;padding-bottom: 0.4em;background-color: white;}#sk-container-id-2 div.sk-label label {font-family: monospace;font-weight: bold;display: inline-block;line-height: 1.2em;}#sk-container-id-2 div.sk-label-container {text-align: center;}#sk-container-id-2 div.sk-container {/* jupyter's `normalize.less` sets `[hidden] { display: none; }` but bootstrap.min.css set `[hidden] { display: none !important; }` so we also need the `!important` here to be able to override the default hidden behavior on the sphinx rendered scikit-learn.org. See: https://github.com/scikit-learn/scikit-learn/issues/21755 */display: inline-block !important;position: relative;}#sk-container-id-2 div.sk-text-repr-fallback {display: none;}</style><div id=\"sk-container-id-2\" class=\"sk-top-container\"><div class=\"sk-text-repr-fallback\"><pre>VotingClassifier(estimators=[(&#x27;lg&#x27;, LogisticRegression(max_iter=2000)),\n",
              "                             (&#x27;dt&#x27;, DecisionTreeClassifier(max_depth=3)),\n",
              "                             (&#x27;ab&#x27;,\n",
              "                              AdaBoostClassifier(base_estimator=DecisionTreeClassifier(max_depth=3)))])</pre><b>In a Jupyter environment, please rerun this cell to show the HTML representation or trust the notebook. <br />On GitHub, the HTML representation is unable to render, please try loading this page with nbviewer.org.</b></div><div class=\"sk-container\" hidden><div class=\"sk-item sk-dashed-wrapped\"><div class=\"sk-label-container\"><div class=\"sk-label sk-toggleable\"><input class=\"sk-toggleable__control sk-hidden--visually\" id=\"sk-estimator-id-4\" type=\"checkbox\" ><label for=\"sk-estimator-id-4\" class=\"sk-toggleable__label sk-toggleable__label-arrow\">VotingClassifier</label><div class=\"sk-toggleable__content\"><pre>VotingClassifier(estimators=[(&#x27;lg&#x27;, LogisticRegression(max_iter=2000)),\n",
              "                             (&#x27;dt&#x27;, DecisionTreeClassifier(max_depth=3)),\n",
              "                             (&#x27;ab&#x27;,\n",
              "                              AdaBoostClassifier(base_estimator=DecisionTreeClassifier(max_depth=3)))])</pre></div></div></div><div class=\"sk-parallel\"><div class=\"sk-parallel-item\"><div class=\"sk-item\"><div class=\"sk-label-container\"><div class=\"sk-label sk-toggleable\"><label>lg</label></div></div><div class=\"sk-serial\"><div class=\"sk-item\"><div class=\"sk-estimator sk-toggleable\"><input class=\"sk-toggleable__control sk-hidden--visually\" id=\"sk-estimator-id-5\" type=\"checkbox\" ><label for=\"sk-estimator-id-5\" class=\"sk-toggleable__label sk-toggleable__label-arrow\">LogisticRegression</label><div class=\"sk-toggleable__content\"><pre>LogisticRegression(max_iter=2000)</pre></div></div></div></div></div></div><div class=\"sk-parallel-item\"><div class=\"sk-item\"><div class=\"sk-label-container\"><div class=\"sk-label sk-toggleable\"><label>dt</label></div></div><div class=\"sk-serial\"><div class=\"sk-item\"><div class=\"sk-estimator sk-toggleable\"><input class=\"sk-toggleable__control sk-hidden--visually\" id=\"sk-estimator-id-6\" type=\"checkbox\" ><label for=\"sk-estimator-id-6\" class=\"sk-toggleable__label sk-toggleable__label-arrow\">DecisionTreeClassifier</label><div class=\"sk-toggleable__content\"><pre>DecisionTreeClassifier(max_depth=3)</pre></div></div></div></div></div></div><div class=\"sk-parallel-item\"><div class=\"sk-item\"><div class=\"sk-label-container\"><div class=\"sk-label sk-toggleable\"><label>ab</label></div></div><div class=\"sk-serial\"><div class=\"sk-item sk-dashed-wrapped\"><div class=\"sk-parallel\"><div class=\"sk-parallel-item\"><div class=\"sk-item\"><div class=\"sk-label-container\"><div class=\"sk-label sk-toggleable\"><input class=\"sk-toggleable__control sk-hidden--visually\" id=\"sk-estimator-id-7\" type=\"checkbox\" ><label for=\"sk-estimator-id-7\" class=\"sk-toggleable__label sk-toggleable__label-arrow\">base_estimator: DecisionTreeClassifier</label><div class=\"sk-toggleable__content\"><pre>DecisionTreeClassifier(max_depth=3)</pre></div></div></div><div class=\"sk-serial\"><div class=\"sk-item\"><div class=\"sk-estimator sk-toggleable\"><input class=\"sk-toggleable__control sk-hidden--visually\" id=\"sk-estimator-id-8\" type=\"checkbox\" ><label for=\"sk-estimator-id-8\" class=\"sk-toggleable__label sk-toggleable__label-arrow\">DecisionTreeClassifier</label><div class=\"sk-toggleable__content\"><pre>DecisionTreeClassifier(max_depth=3)</pre></div></div></div></div></div></div></div></div></div></div></div></div></div></div></div>"
            ]
          },
          "metadata": {},
          "execution_count": 38
        }
      ]
    },
    {
      "cell_type": "code",
      "source": [
        "ensemble_predictions = voting_classifier_tfidf.predict(x_test_scaled_tfidf)\n",
        "# accuracy_score(y_test, ensemble_predictions)\n",
        "report = classification_report(y_test, ensemble_predictions)\n",
        "print(report)"
      ],
      "metadata": {
        "colab": {
          "base_uri": "https://localhost:8080/"
        },
        "outputId": "19ed3e50-43c4-4072-bf48-f7cc6ae82c98",
        "id": "Dt0AYUa19IKM"
      },
      "execution_count": 70,
      "outputs": [
        {
          "output_type": "stream",
          "name": "stdout",
          "text": [
            "              precision    recall  f1-score   support\n",
            "\n",
            "           0       0.04      0.00      0.00       709\n",
            "           1       0.31      0.07      0.11      2715\n",
            "           2       0.54      0.92      0.68      7905\n",
            "           3       0.31      0.12      0.17      3250\n",
            "           4       0.20      0.00      0.00       926\n",
            "\n",
            "    accuracy                           0.51     15505\n",
            "   macro avg       0.28      0.22      0.19     15505\n",
            "weighted avg       0.41      0.51      0.40     15505\n",
            "\n"
          ]
        }
      ]
    },
    {
      "cell_type": "markdown",
      "source": [
        "# Train the Models - Second Approach"
      ],
      "metadata": {
        "id": "AXpo5mh82DSx"
      }
    },
    {
      "cell_type": "markdown",
      "source": [
        "## Logistic Regression\n"
      ],
      "metadata": {
        "id": "aPGWaEJpDJqH"
      }
    },
    {
      "cell_type": "code",
      "source": [
        "best_accuracy_lg_model = 0.0\n",
        "best_lg_model = None\n",
        "for c in [0.1, 1, 2]:\n",
        "  for penalty in ['l1', 'l2']:\n",
        "    for max_iter in [1000, 2000]:\n",
        "      # Define Logistic Regression model and set hyperparameters\n",
        "      lg_model = LogisticRegression(C=1.0, penalty='l2', max_iter=2000)\n",
        "\n",
        "      # Train the Logistic Regression model\n",
        "      lg_model.fit(x_train_scaled, y_train)\n",
        "\n",
        "      # Predict using the trained model\n",
        "      predictions = lg_model.predict(x_valid_scaled)\n",
        "      accuracy = accuracy_score(y_valid, predictions)\n",
        "\n",
        "      if accuracy > best_accuracy_lg_model:\n",
        "        best_accuracy_lg_model = accuracy\n",
        "        best_lg_model = lg_model\n",
        "\n",
        "\n",
        "\n"
      ],
      "metadata": {
        "id": "zLtaORxXDNOP"
      },
      "execution_count": null,
      "outputs": []
    },
    {
      "cell_type": "markdown",
      "source": [
        "## SVM"
      ],
      "metadata": {
        "id": "vqhf2jVf6lO-"
      }
    },
    {
      "cell_type": "code",
      "source": [
        "'''This code takes long time to RUN!'''\n",
        "\n",
        "\n",
        "# from sklearn import svm\n",
        "# from sklearn.metrics import accuracy_score\n",
        "\n",
        "# # Normalize or scale FastText vectors if necessary\n",
        "\n",
        "# # Define SVM model and set hyperparameters\n",
        "# model = svm.SVC(kernel='linear', C=10.0)\n",
        "\n",
        "# # Train the SVM model\n",
        "# model.fit(train_vectors, y_train)\n",
        "\n",
        "# # Predict using the trained model\n",
        "# predictions = model.predict(test_vectors)\n",
        "\n",
        "# # Evaluate the model\n",
        "# accuracy = accuracy_score(y_test, predictions)"
      ],
      "metadata": {
        "colab": {
          "base_uri": "https://localhost:8080/",
          "height": 36
        },
        "id": "-mD4_H216mhM",
        "outputId": "ea66ae38-626f-4a21-f038-29392f227ae6"
      },
      "execution_count": null,
      "outputs": [
        {
          "output_type": "execute_result",
          "data": {
            "text/plain": [
              "'This code takes long time to RUN!'"
            ],
            "application/vnd.google.colaboratory.intrinsic+json": {
              "type": "string"
            }
          },
          "metadata": {},
          "execution_count": 41
        }
      ]
    },
    {
      "cell_type": "markdown",
      "source": [
        "## Decision Tree"
      ],
      "metadata": {
        "id": "9Q_fNtz2cubD"
      }
    },
    {
      "cell_type": "code",
      "source": [
        "\n",
        "\n",
        "best_accuracy_ldt_model = 0.0\n",
        "best_dt_model = None\n",
        "for criterion in ['entropy', 'gini']:\n",
        "    for max_d in [3, 30]:\n",
        "      for min_s in [2, 4, 6]:\n",
        "\n",
        "        dt_model = DecisionTreeClassifier(max_depth=max_d, min_samples_split=min_s, criterion=criterion)\n",
        "\n",
        "        dt_model.fit(x_train_scaled, y_train)\n",
        "\n",
        "        predictions = dt_model.predict(x_valid_scaled)\n",
        "\n",
        "        accuracy = accuracy_score(y_valid, predictions)\n",
        "\n",
        "        if accuracy > best_accuracy_ldt_model:\n",
        "          best_accuracy_ldt_model = accuracy\n",
        "          best_dt_model = dt_model\n"
      ],
      "metadata": {
        "id": "zXaFKV9pc1F2"
      },
      "execution_count": 63,
      "outputs": []
    },
    {
      "cell_type": "code",
      "source": [
        "best_accuracy_ldt_model"
      ],
      "metadata": {
        "colab": {
          "base_uri": "https://localhost:8080/"
        },
        "id": "CNgVZn3tdAZX",
        "outputId": "b22176ca-63c4-4f2e-9953-41d09aa9a0d5"
      },
      "execution_count": 64,
      "outputs": [
        {
          "output_type": "execute_result",
          "data": {
            "text/plain": [
              "0.5759432441148017"
            ]
          },
          "metadata": {},
          "execution_count": 64
        }
      ]
    },
    {
      "cell_type": "markdown",
      "source": [
        "## AdaBoost"
      ],
      "metadata": {
        "id": "AHehfCFrl-8d"
      }
    },
    {
      "cell_type": "code",
      "source": [
        "\n",
        "\n",
        "base_classifier = DecisionTreeClassifier(max_depth=3)\n",
        "\n",
        "adaboost_model = AdaBoostClassifier(base_estimator=base_classifier, n_estimators=50)\n",
        "\n",
        "adaboost_model.fit(x_train_scaled, y_train)\n",
        "\n"
      ],
      "metadata": {
        "colab": {
          "base_uri": "https://localhost:8080/",
          "height": 154
        },
        "id": "XSNEkMsHmDCv",
        "outputId": "034f0d62-0b71-44aa-f8e3-094d2625e619"
      },
      "execution_count": null,
      "outputs": [
        {
          "metadata": {
            "tags": null
          },
          "name": "stderr",
          "output_type": "stream",
          "text": [
            "/usr/local/lib/python3.10/dist-packages/sklearn/ensemble/_base.py:166: FutureWarning: `base_estimator` was renamed to `estimator` in version 1.2 and will be removed in 1.4.\n",
            "  warnings.warn(\n"
          ]
        },
        {
          "output_type": "execute_result",
          "data": {
            "text/plain": [
              "AdaBoostClassifier(base_estimator=DecisionTreeClassifier(max_depth=3))"
            ],
            "text/html": [
              "<style>#sk-container-id-3 {color: black;background-color: white;}#sk-container-id-3 pre{padding: 0;}#sk-container-id-3 div.sk-toggleable {background-color: white;}#sk-container-id-3 label.sk-toggleable__label {cursor: pointer;display: block;width: 100%;margin-bottom: 0;padding: 0.3em;box-sizing: border-box;text-align: center;}#sk-container-id-3 label.sk-toggleable__label-arrow:before {content: \"▸\";float: left;margin-right: 0.25em;color: #696969;}#sk-container-id-3 label.sk-toggleable__label-arrow:hover:before {color: black;}#sk-container-id-3 div.sk-estimator:hover label.sk-toggleable__label-arrow:before {color: black;}#sk-container-id-3 div.sk-toggleable__content {max-height: 0;max-width: 0;overflow: hidden;text-align: left;background-color: #f0f8ff;}#sk-container-id-3 div.sk-toggleable__content pre {margin: 0.2em;color: black;border-radius: 0.25em;background-color: #f0f8ff;}#sk-container-id-3 input.sk-toggleable__control:checked~div.sk-toggleable__content {max-height: 200px;max-width: 100%;overflow: auto;}#sk-container-id-3 input.sk-toggleable__control:checked~label.sk-toggleable__label-arrow:before {content: \"▾\";}#sk-container-id-3 div.sk-estimator input.sk-toggleable__control:checked~label.sk-toggleable__label {background-color: #d4ebff;}#sk-container-id-3 div.sk-label input.sk-toggleable__control:checked~label.sk-toggleable__label {background-color: #d4ebff;}#sk-container-id-3 input.sk-hidden--visually {border: 0;clip: rect(1px 1px 1px 1px);clip: rect(1px, 1px, 1px, 1px);height: 1px;margin: -1px;overflow: hidden;padding: 0;position: absolute;width: 1px;}#sk-container-id-3 div.sk-estimator {font-family: monospace;background-color: #f0f8ff;border: 1px dotted black;border-radius: 0.25em;box-sizing: border-box;margin-bottom: 0.5em;}#sk-container-id-3 div.sk-estimator:hover {background-color: #d4ebff;}#sk-container-id-3 div.sk-parallel-item::after {content: \"\";width: 100%;border-bottom: 1px solid gray;flex-grow: 1;}#sk-container-id-3 div.sk-label:hover label.sk-toggleable__label {background-color: #d4ebff;}#sk-container-id-3 div.sk-serial::before {content: \"\";position: absolute;border-left: 1px solid gray;box-sizing: border-box;top: 0;bottom: 0;left: 50%;z-index: 0;}#sk-container-id-3 div.sk-serial {display: flex;flex-direction: column;align-items: center;background-color: white;padding-right: 0.2em;padding-left: 0.2em;position: relative;}#sk-container-id-3 div.sk-item {position: relative;z-index: 1;}#sk-container-id-3 div.sk-parallel {display: flex;align-items: stretch;justify-content: center;background-color: white;position: relative;}#sk-container-id-3 div.sk-item::before, #sk-container-id-3 div.sk-parallel-item::before {content: \"\";position: absolute;border-left: 1px solid gray;box-sizing: border-box;top: 0;bottom: 0;left: 50%;z-index: -1;}#sk-container-id-3 div.sk-parallel-item {display: flex;flex-direction: column;z-index: 1;position: relative;background-color: white;}#sk-container-id-3 div.sk-parallel-item:first-child::after {align-self: flex-end;width: 50%;}#sk-container-id-3 div.sk-parallel-item:last-child::after {align-self: flex-start;width: 50%;}#sk-container-id-3 div.sk-parallel-item:only-child::after {width: 0;}#sk-container-id-3 div.sk-dashed-wrapped {border: 1px dashed gray;margin: 0 0.4em 0.5em 0.4em;box-sizing: border-box;padding-bottom: 0.4em;background-color: white;}#sk-container-id-3 div.sk-label label {font-family: monospace;font-weight: bold;display: inline-block;line-height: 1.2em;}#sk-container-id-3 div.sk-label-container {text-align: center;}#sk-container-id-3 div.sk-container {/* jupyter's `normalize.less` sets `[hidden] { display: none; }` but bootstrap.min.css set `[hidden] { display: none !important; }` so we also need the `!important` here to be able to override the default hidden behavior on the sphinx rendered scikit-learn.org. See: https://github.com/scikit-learn/scikit-learn/issues/21755 */display: inline-block !important;position: relative;}#sk-container-id-3 div.sk-text-repr-fallback {display: none;}</style><div id=\"sk-container-id-3\" class=\"sk-top-container\"><div class=\"sk-text-repr-fallback\"><pre>AdaBoostClassifier(base_estimator=DecisionTreeClassifier(max_depth=3))</pre><b>In a Jupyter environment, please rerun this cell to show the HTML representation or trust the notebook. <br />On GitHub, the HTML representation is unable to render, please try loading this page with nbviewer.org.</b></div><div class=\"sk-container\" hidden><div class=\"sk-item sk-dashed-wrapped\"><div class=\"sk-label-container\"><div class=\"sk-label sk-toggleable\"><input class=\"sk-toggleable__control sk-hidden--visually\" id=\"sk-estimator-id-9\" type=\"checkbox\" ><label for=\"sk-estimator-id-9\" class=\"sk-toggleable__label sk-toggleable__label-arrow\">AdaBoostClassifier</label><div class=\"sk-toggleable__content\"><pre>AdaBoostClassifier(base_estimator=DecisionTreeClassifier(max_depth=3))</pre></div></div></div><div class=\"sk-parallel\"><div class=\"sk-parallel-item\"><div class=\"sk-item\"><div class=\"sk-label-container\"><div class=\"sk-label sk-toggleable\"><input class=\"sk-toggleable__control sk-hidden--visually\" id=\"sk-estimator-id-10\" type=\"checkbox\" ><label for=\"sk-estimator-id-10\" class=\"sk-toggleable__label sk-toggleable__label-arrow\">base_estimator: DecisionTreeClassifier</label><div class=\"sk-toggleable__content\"><pre>DecisionTreeClassifier(max_depth=3)</pre></div></div></div><div class=\"sk-serial\"><div class=\"sk-item\"><div class=\"sk-estimator sk-toggleable\"><input class=\"sk-toggleable__control sk-hidden--visually\" id=\"sk-estimator-id-11\" type=\"checkbox\" ><label for=\"sk-estimator-id-11\" class=\"sk-toggleable__label sk-toggleable__label-arrow\">DecisionTreeClassifier</label><div class=\"sk-toggleable__content\"><pre>DecisionTreeClassifier(max_depth=3)</pre></div></div></div></div></div></div></div></div></div></div>"
            ]
          },
          "metadata": {},
          "execution_count": 44
        }
      ]
    },
    {
      "cell_type": "markdown",
      "source": [
        "## Simple Neural Network Model"
      ],
      "metadata": {
        "id": "qfd0pJZI4Y7N"
      }
    },
    {
      "cell_type": "code",
      "source": [
        "\n",
        "\n",
        "nn_model = keras.Sequential()\n",
        "nn_model.add(keras.layers.Dense(64, activation='relu', input_shape=(x_train_scaled.shape[1],)))\n",
        "nn_model.add(keras.layers.Dense(32, activation='relu'))\n",
        "nn_model.add(keras.layers.Dense(5, activation='softmax'))\n",
        "\n",
        "# Compile the model\n",
        "nn_model.compile(optimizer='adam', loss='sparse_categorical_crossentropy', metrics=['accuracy'])\n",
        "\n",
        "# Train the model\n",
        "nn_model.fit(x_train_scaled, y_train, validation_data=(x_valid_scaled, y_valid), epochs=30, batch_size=32)\n"
      ],
      "metadata": {
        "colab": {
          "base_uri": "https://localhost:8080/"
        },
        "id": "w8uJD_374YC-",
        "outputId": "324b9d93-95bf-490e-b3a4-361eacbafce1"
      },
      "execution_count": null,
      "outputs": [
        {
          "output_type": "stream",
          "name": "stdout",
          "text": [
            "Epoch 1/30\n",
            "3877/3877 [==============================] - 10s 2ms/step - loss: 1.1216 - accuracy: 0.5462 - val_loss: 1.0983 - val_accuracy: 0.5552\n",
            "Epoch 2/30\n",
            "3877/3877 [==============================] - 8s 2ms/step - loss: 1.0744 - accuracy: 0.5679 - val_loss: 1.0813 - val_accuracy: 0.5599\n",
            "Epoch 3/30\n",
            "3877/3877 [==============================] - 9s 2ms/step - loss: 1.0550 - accuracy: 0.5769 - val_loss: 1.0688 - val_accuracy: 0.5630\n",
            "Epoch 4/30\n",
            "3877/3877 [==============================] - 9s 2ms/step - loss: 1.0405 - accuracy: 0.5835 - val_loss: 1.0619 - val_accuracy: 0.5747\n",
            "Epoch 5/30\n",
            "3877/3877 [==============================] - 9s 2ms/step - loss: 1.0298 - accuracy: 0.5882 - val_loss: 1.0592 - val_accuracy: 0.5717\n",
            "Epoch 6/30\n",
            "3877/3877 [==============================] - 9s 2ms/step - loss: 1.0221 - accuracy: 0.5912 - val_loss: 1.0561 - val_accuracy: 0.5756\n",
            "Epoch 7/30\n",
            "3877/3877 [==============================] - 9s 2ms/step - loss: 1.0156 - accuracy: 0.5950 - val_loss: 1.0540 - val_accuracy: 0.5750\n",
            "Epoch 8/30\n",
            "3877/3877 [==============================] - 10s 2ms/step - loss: 1.0091 - accuracy: 0.5959 - val_loss: 1.0528 - val_accuracy: 0.5772\n",
            "Epoch 9/30\n",
            "3877/3877 [==============================] - 8s 2ms/step - loss: 1.0036 - accuracy: 0.5992 - val_loss: 1.0559 - val_accuracy: 0.5739\n",
            "Epoch 10/30\n",
            "3877/3877 [==============================] - 9s 2ms/step - loss: 0.9991 - accuracy: 0.6006 - val_loss: 1.0500 - val_accuracy: 0.5806\n",
            "Epoch 11/30\n",
            "3877/3877 [==============================] - 9s 2ms/step - loss: 0.9954 - accuracy: 0.6026 - val_loss: 1.0479 - val_accuracy: 0.5783\n",
            "Epoch 12/30\n",
            "3877/3877 [==============================] - 8s 2ms/step - loss: 0.9916 - accuracy: 0.6033 - val_loss: 1.0474 - val_accuracy: 0.5790\n",
            "Epoch 13/30\n",
            "3877/3877 [==============================] - 9s 2ms/step - loss: 0.9874 - accuracy: 0.6053 - val_loss: 1.0508 - val_accuracy: 0.5810\n",
            "Epoch 14/30\n",
            "3877/3877 [==============================] - 9s 2ms/step - loss: 0.9843 - accuracy: 0.6076 - val_loss: 1.0483 - val_accuracy: 0.5823\n",
            "Epoch 15/30\n",
            "3877/3877 [==============================] - 8s 2ms/step - loss: 0.9822 - accuracy: 0.6081 - val_loss: 1.0501 - val_accuracy: 0.5828\n",
            "Epoch 16/30\n",
            "3877/3877 [==============================] - 9s 2ms/step - loss: 0.9788 - accuracy: 0.6087 - val_loss: 1.0529 - val_accuracy: 0.5797\n",
            "Epoch 17/30\n",
            "3877/3877 [==============================] - 9s 2ms/step - loss: 0.9764 - accuracy: 0.6105 - val_loss: 1.0504 - val_accuracy: 0.5791\n",
            "Epoch 18/30\n",
            "3877/3877 [==============================] - 9s 2ms/step - loss: 0.9739 - accuracy: 0.6113 - val_loss: 1.0457 - val_accuracy: 0.5805\n",
            "Epoch 19/30\n",
            "3877/3877 [==============================] - 8s 2ms/step - loss: 0.9713 - accuracy: 0.6119 - val_loss: 1.0451 - val_accuracy: 0.5812\n",
            "Epoch 20/30\n",
            "3877/3877 [==============================] - 9s 2ms/step - loss: 0.9693 - accuracy: 0.6131 - val_loss: 1.0459 - val_accuracy: 0.5830\n",
            "Epoch 21/30\n",
            "3877/3877 [==============================] - 9s 2ms/step - loss: 0.9678 - accuracy: 0.6132 - val_loss: 1.0470 - val_accuracy: 0.5833\n",
            "Epoch 22/30\n",
            "3877/3877 [==============================] - 8s 2ms/step - loss: 0.9662 - accuracy: 0.6147 - val_loss: 1.0443 - val_accuracy: 0.5854\n",
            "Epoch 23/30\n",
            "3877/3877 [==============================] - 8s 2ms/step - loss: 0.9640 - accuracy: 0.6154 - val_loss: 1.0480 - val_accuracy: 0.5796\n",
            "Epoch 24/30\n",
            "3877/3877 [==============================] - 9s 2ms/step - loss: 0.9630 - accuracy: 0.6150 - val_loss: 1.0517 - val_accuracy: 0.5810\n",
            "Epoch 25/30\n",
            "3877/3877 [==============================] - 8s 2ms/step - loss: 0.9614 - accuracy: 0.6164 - val_loss: 1.0481 - val_accuracy: 0.5798\n",
            "Epoch 26/30\n",
            "3877/3877 [==============================] - 9s 2ms/step - loss: 0.9597 - accuracy: 0.6160 - val_loss: 1.0466 - val_accuracy: 0.5839\n",
            "Epoch 27/30\n",
            "3877/3877 [==============================] - 9s 2ms/step - loss: 0.9586 - accuracy: 0.6179 - val_loss: 1.0487 - val_accuracy: 0.5817\n",
            "Epoch 28/30\n",
            "3877/3877 [==============================] - 9s 2ms/step - loss: 0.9570 - accuracy: 0.6170 - val_loss: 1.0533 - val_accuracy: 0.5781\n",
            "Epoch 29/30\n",
            "3877/3877 [==============================] - 8s 2ms/step - loss: 0.9564 - accuracy: 0.6182 - val_loss: 1.0428 - val_accuracy: 0.5826\n",
            "Epoch 30/30\n",
            "3877/3877 [==============================] - 9s 2ms/step - loss: 0.9545 - accuracy: 0.6189 - val_loss: 1.0530 - val_accuracy: 0.5849\n"
          ]
        },
        {
          "output_type": "execute_result",
          "data": {
            "text/plain": [
              "<keras.callbacks.History at 0x7f411c5fb0d0>"
            ]
          },
          "metadata": {},
          "execution_count": 45
        }
      ]
    },
    {
      "cell_type": "markdown",
      "source": [
        "## Deep Neural Network"
      ],
      "metadata": {
        "id": "SaMEQSAsN3Q3"
      }
    },
    {
      "cell_type": "code",
      "source": [
        "# Define NN model architecture\n",
        "deep = keras.Sequential()\n",
        "deep.add(keras.layers.Dense(512, activation='relu', input_shape=(x_train_scaled.shape[1],)))\n",
        "deep.add(keras.layers.Dropout(0.2))  # reduce overfitting\n",
        "deep.add(keras.layers.Dense(256, activation='relu'))\n",
        "deep.add(keras.layers.Dropout(0.2))\n",
        "deep.add(keras.layers.Dense(128, activation='relu'))\n",
        "deep.add(keras.layers.BatchNormalization())  # improved training stability\n",
        "deep.add(keras.layers.Dense(64, activation='relu'))\n",
        "deep.add(keras.layers.Dropout(0.2))\n",
        "deep.add(keras.layers.Dense(32, activation='relu'))\n",
        "deep.add(keras.layers.Dropout(0.2))\n",
        "deep.add(keras.layers.Dense(5, activation='softmax'))  # softmax activation\n",
        "\n",
        "\n",
        "deep.compile(optimizer='adam', loss='sparse_categorical_crossentropy', metrics=['accuracy'])\n",
        "\n",
        "deep.fit(x_train_scaled, y_train, validation_data=(x_valid_scaled, y_valid), epochs=30, batch_size=64)\n",
        "\n"
      ],
      "metadata": {
        "colab": {
          "base_uri": "https://localhost:8080/"
        },
        "id": "QrfRN7n_N5qj",
        "outputId": "759aab96-f9bd-4537-a301-1882eabd4615"
      },
      "execution_count": null,
      "outputs": [
        {
          "output_type": "stream",
          "name": "stdout",
          "text": [
            "Epoch 1/30\n",
            "1939/1939 [==============================] - 23s 11ms/step - loss: 1.1678 - accuracy: 0.5338 - val_loss: 1.1070 - val_accuracy: 0.5436\n",
            "Epoch 2/30\n",
            "1939/1939 [==============================] - 19s 10ms/step - loss: 1.1062 - accuracy: 0.5584 - val_loss: 1.0784 - val_accuracy: 0.5605\n",
            "Epoch 3/30\n",
            "1939/1939 [==============================] - 21s 11ms/step - loss: 1.0803 - accuracy: 0.5672 - val_loss: 1.0599 - val_accuracy: 0.5727\n",
            "Epoch 4/30\n",
            "1939/1939 [==============================] - 20s 10ms/step - loss: 1.0602 - accuracy: 0.5756 - val_loss: 1.0440 - val_accuracy: 0.5762\n",
            "Epoch 5/30\n",
            "1939/1939 [==============================] - 20s 10ms/step - loss: 1.0422 - accuracy: 0.5824 - val_loss: 1.0358 - val_accuracy: 0.5840\n",
            "Epoch 6/30\n",
            "1939/1939 [==============================] - 21s 11ms/step - loss: 1.0228 - accuracy: 0.5906 - val_loss: 1.0237 - val_accuracy: 0.5872\n",
            "Epoch 7/30\n",
            "1939/1939 [==============================] - 20s 10ms/step - loss: 1.0071 - accuracy: 0.5976 - val_loss: 1.0157 - val_accuracy: 0.5846\n",
            "Epoch 8/30\n",
            "1939/1939 [==============================] - 19s 10ms/step - loss: 0.9917 - accuracy: 0.6059 - val_loss: 1.0005 - val_accuracy: 0.5983\n",
            "Epoch 9/30\n",
            "1939/1939 [==============================] - 20s 10ms/step - loss: 0.9775 - accuracy: 0.6111 - val_loss: 0.9935 - val_accuracy: 0.6029\n",
            "Epoch 10/30\n",
            "1939/1939 [==============================] - 19s 10ms/step - loss: 0.9649 - accuracy: 0.6159 - val_loss: 0.9819 - val_accuracy: 0.6033\n",
            "Epoch 11/30\n",
            "1939/1939 [==============================] - 21s 11ms/step - loss: 0.9528 - accuracy: 0.6206 - val_loss: 0.9774 - val_accuracy: 0.6097\n",
            "Epoch 12/30\n",
            "1939/1939 [==============================] - 21s 11ms/step - loss: 0.9419 - accuracy: 0.6261 - val_loss: 0.9702 - val_accuracy: 0.6126\n",
            "Epoch 13/30\n",
            "1939/1939 [==============================] - 20s 10ms/step - loss: 0.9334 - accuracy: 0.6299 - val_loss: 0.9681 - val_accuracy: 0.6173\n",
            "Epoch 14/30\n",
            "1939/1939 [==============================] - 20s 10ms/step - loss: 0.9254 - accuracy: 0.6335 - val_loss: 0.9624 - val_accuracy: 0.6173\n",
            "Epoch 15/30\n",
            "1939/1939 [==============================] - 20s 10ms/step - loss: 0.9177 - accuracy: 0.6376 - val_loss: 0.9614 - val_accuracy: 0.6155\n",
            "Epoch 16/30\n",
            "1939/1939 [==============================] - 19s 10ms/step - loss: 0.9124 - accuracy: 0.6397 - val_loss: 0.9601 - val_accuracy: 0.6224\n",
            "Epoch 17/30\n",
            "1939/1939 [==============================] - 20s 10ms/step - loss: 0.9025 - accuracy: 0.6427 - val_loss: 0.9559 - val_accuracy: 0.6175\n",
            "Epoch 18/30\n",
            "1939/1939 [==============================] - 20s 10ms/step - loss: 0.8986 - accuracy: 0.6462 - val_loss: 0.9538 - val_accuracy: 0.6195\n",
            "Epoch 19/30\n",
            "1939/1939 [==============================] - 19s 10ms/step - loss: 0.8922 - accuracy: 0.6460 - val_loss: 0.9569 - val_accuracy: 0.6176\n",
            "Epoch 20/30\n",
            "1939/1939 [==============================] - 21s 11ms/step - loss: 0.8831 - accuracy: 0.6525 - val_loss: 0.9473 - val_accuracy: 0.6240\n",
            "Epoch 21/30\n",
            "1939/1939 [==============================] - 22s 11ms/step - loss: 0.8826 - accuracy: 0.6520 - val_loss: 0.9479 - val_accuracy: 0.6241\n",
            "Epoch 22/30\n",
            "1939/1939 [==============================] - 21s 11ms/step - loss: 0.8760 - accuracy: 0.6542 - val_loss: 0.9526 - val_accuracy: 0.6162\n",
            "Epoch 23/30\n",
            "1939/1939 [==============================] - 22s 11ms/step - loss: 0.8692 - accuracy: 0.6586 - val_loss: 0.9493 - val_accuracy: 0.6236\n",
            "Epoch 24/30\n",
            "1939/1939 [==============================] - 22s 11ms/step - loss: 0.8663 - accuracy: 0.6611 - val_loss: 0.9521 - val_accuracy: 0.6225\n",
            "Epoch 25/30\n",
            "1939/1939 [==============================] - 23s 12ms/step - loss: 0.8602 - accuracy: 0.6615 - val_loss: 0.9400 - val_accuracy: 0.6273\n",
            "Epoch 26/30\n",
            "1939/1939 [==============================] - 21s 11ms/step - loss: 0.8579 - accuracy: 0.6620 - val_loss: 0.9429 - val_accuracy: 0.6264\n",
            "Epoch 27/30\n",
            "1939/1939 [==============================] - 20s 10ms/step - loss: 0.8532 - accuracy: 0.6650 - val_loss: 0.9467 - val_accuracy: 0.6189\n",
            "Epoch 28/30\n",
            "1939/1939 [==============================] - 20s 10ms/step - loss: 0.8495 - accuracy: 0.6675 - val_loss: 0.9450 - val_accuracy: 0.6292\n",
            "Epoch 29/30\n",
            "1939/1939 [==============================] - 20s 10ms/step - loss: 0.8458 - accuracy: 0.6674 - val_loss: 0.9416 - val_accuracy: 0.6262\n",
            "Epoch 30/30\n",
            "1939/1939 [==============================] - 20s 10ms/step - loss: 0.8412 - accuracy: 0.6706 - val_loss: 0.9409 - val_accuracy: 0.6288\n"
          ]
        },
        {
          "output_type": "execute_result",
          "data": {
            "text/plain": [
              "<keras.callbacks.History at 0x7f4106a3a440>"
            ]
          },
          "metadata": {},
          "execution_count": 46
        }
      ]
    },
    {
      "cell_type": "markdown",
      "source": [
        "## Fasttext Model Supervised\n",
        "Here we are going to define a fasttext model."
      ],
      "metadata": {
        "id": "ceeC5BWQNnb7"
      }
    },
    {
      "cell_type": "code",
      "source": [
        "# Preparation\n",
        "train = np.hstack((x_train, y_train.values.reshape(-1, 1)))\n",
        "df = pd.DataFrame(train, columns=['PhraseId', 'SentenceId', 'Phrase', 'Sentiment'])\n",
        "\n",
        "# Training data\n",
        "train_sentences = x_train['Phrase'].tolist()\n",
        "train_labels = y_train.tolist()\n",
        "\n",
        "# Validation data\n",
        "val_sentences = x_valid['Phrase'].tolist()\n",
        "val_labels = y_valid.tolist()\n",
        "\n",
        "# Test data\n",
        "test_sentences = x_test['Phrase'].tolist()\n",
        "test_labels = y_test.tolist()\n",
        "\n",
        "\n",
        "df.to_csv('preprocessed_train_dataset.csv', index=False, header=False, columns=['Phrase'])\n",
        "\n",
        "# FastText format\n",
        "train_data = ['__label__' + str(label) + ' ' + sentence for label, sentence in zip(train_labels, train_sentences)]\n",
        "\n",
        "# Save to a text file\n",
        "train_data_path = 'preprocessed_train_data.txt'\n",
        "with open(train_data_path, 'w') as f:\n",
        "    for item in train_data:\n",
        "        f.write(\"%s\\n\" % item)\n",
        "\n",
        "\n",
        "val_labels = ['__label__' + str(x) for x in val_labels]\n",
        "test_labels = ['__label__' + str(x) for x in test_labels]"
      ],
      "metadata": {
        "id": "1S-RCip_PDzK"
      },
      "execution_count": null,
      "outputs": []
    },
    {
      "cell_type": "code",
      "source": [
        "best_accuracy = 0\n",
        "fasttext_model_supervised = None\n",
        "\n",
        "for lr in [0.05, 0.1]:\n",
        "  for epoch in [10, 30]:\n",
        "    for dim in [10, 100]:\n",
        "      # Train FastText model\n",
        "      ft_model = fasttext.train_supervised(\n",
        "          input=train_data_path,\n",
        "          epoch=epoch,\n",
        "          lr=lr,\n",
        "          wordNgrams=2,\n",
        "          bucket=200000,\n",
        "          dim=dim\n",
        "      )\n",
        "\n",
        "      # Predict on validation data\n",
        "      val_predictions = [ft_model.predict(text)[0][0] for text in val_sentences]\n",
        "\n",
        "      # Calculate accuracy on validation data\n",
        "\n",
        "      val_accuracy = sum([val_labels[i] == val_predictions[i] for i in range(len(val_labels))]) / len(val_labels)\n",
        "      if val_accuracy > best_accuracy:\n",
        "        best_accuracy = val_accuracy\n",
        "        fasttext_model_supervised = ft_model\n",
        "\n"
      ],
      "metadata": {
        "id": "RB2GwQhBhDX-"
      },
      "execution_count": null,
      "outputs": []
    },
    {
      "cell_type": "markdown",
      "source": [
        "# Evaluate the Models - Second Approach"
      ],
      "metadata": {
        "id": "ThG-Sjz72HG4"
      }
    },
    {
      "cell_type": "code",
      "source": [
        "# Logistic Regression\n",
        "print('- - - - - - - \\nLogistic Regression Model')\n",
        "lg_preds = best_lg_model.predict(x_test_scaled)\n",
        "# test_accuracy = accuracy_score(y_test, lg_preds)\n",
        "# print(\"Test Accuracy:\", test_accuracy)\n",
        "report = classification_report(y_test, lg_preds)\n",
        "print(report)"
      ],
      "metadata": {
        "id": "YkiBET1LOu1R",
        "colab": {
          "base_uri": "https://localhost:8080/"
        },
        "outputId": "7bcf79dd-51b2-4a54-8338-38c2d5e77e7c"
      },
      "execution_count": 79,
      "outputs": [
        {
          "output_type": "stream",
          "name": "stdout",
          "text": [
            "- - - - - - - \n",
            "Logistic Regression Model\n",
            "              precision    recall  f1-score   support\n",
            "\n",
            "           0       0.41      0.03      0.05       709\n",
            "           1       0.40      0.13      0.20      2715\n",
            "           2       0.57      0.89      0.69      7905\n",
            "           3       0.43      0.27      0.33      3250\n",
            "           4       0.42      0.06      0.10       926\n",
            "\n",
            "    accuracy                           0.54     15505\n",
            "   macro avg       0.45      0.27      0.27     15505\n",
            "weighted avg       0.49      0.54      0.46     15505\n",
            "\n"
          ]
        }
      ]
    },
    {
      "cell_type": "code",
      "source": [
        "# SVM"
      ],
      "metadata": {
        "id": "01SVFwwf03BG"
      },
      "execution_count": null,
      "outputs": []
    },
    {
      "cell_type": "code",
      "source": [
        "# Decision Tree\n",
        "print('- - - - - - - \\nDecision Tree Model')\n",
        "dt_preds = best_dt_model.predict(x_test_scaled)\n",
        "# test_accuracy = accuracy_score(y_test, dt_preds)\n",
        "# print(\"Test Accuracy:\", test_accuracy)\n",
        "report = classification_report(y_test, dt_preds)\n",
        "print(report)"
      ],
      "metadata": {
        "colab": {
          "base_uri": "https://localhost:8080/"
        },
        "id": "hOXNOCR1fOQf",
        "outputId": "13d5bea3-319c-4385-c076-a7b1c8854a76"
      },
      "execution_count": 81,
      "outputs": [
        {
          "output_type": "stream",
          "name": "stdout",
          "text": [
            "- - - - - - - \n",
            "Decision Tree Model\n",
            "              precision    recall  f1-score   support\n",
            "\n",
            "           0       0.32      0.38      0.35       709\n",
            "           1       0.42      0.40      0.41      2715\n",
            "           2       0.68      0.74      0.71      7905\n",
            "           3       0.48      0.40      0.43      3250\n",
            "           4       0.39      0.32      0.35       926\n",
            "\n",
            "    accuracy                           0.57     15505\n",
            "   macro avg       0.46      0.45      0.45     15505\n",
            "weighted avg       0.56      0.57      0.56     15505\n",
            "\n"
          ]
        }
      ]
    },
    {
      "cell_type": "code",
      "source": [
        "# Adaboost\n",
        "print('- - - - - - - \\nAdaBoost Model')\n",
        "ab_preds = adaboost_model.predict(x_test_scaled)\n",
        "test_accuracy = accuracy_score(y_test, ab_preds)\n",
        "print(\"Test Accuracy:\", test_accuracy)"
      ],
      "metadata": {
        "colab": {
          "base_uri": "https://localhost:8080/"
        },
        "id": "5wIcXe6qvC7x",
        "outputId": "ec66953a-0a20-4df4-ae4b-52078c71270b"
      },
      "execution_count": null,
      "outputs": [
        {
          "output_type": "stream",
          "name": "stdout",
          "text": [
            "- - - - - - - \n",
            "Decision Tree Model\n",
            "Test Accuracy: 0.5295711060948082\n"
          ]
        }
      ]
    },
    {
      "cell_type": "code",
      "source": [
        "# Simple Neural Networks\n",
        "\n",
        "print('- - - - - - - \\nNeural Network Model')\n",
        "predictions = nn_model.predict(x_test_scaled)\n",
        "nn_preds = [np.argmax(predictions[i]) for i in range(predictions.shape[0])]\n",
        "# test_accuracy = accuracy_score(y_test, nn_preds)\n",
        "# print(\"Test Accuracy:\", test_accuracy)\n",
        "report = classification_report(y_test, nn_preds)\n",
        "print(report)"
      ],
      "metadata": {
        "colab": {
          "base_uri": "https://localhost:8080/"
        },
        "id": "AdCRQGx0hZ6f",
        "outputId": "20bb125f-c67b-4c01-bd0d-b812d19224fc"
      },
      "execution_count": 82,
      "outputs": [
        {
          "output_type": "stream",
          "name": "stdout",
          "text": [
            "- - - - - - - \n",
            "Neural Network Model\n",
            "485/485 [==============================] - 1s 1ms/step\n",
            "              precision    recall  f1-score   support\n",
            "\n",
            "           0       0.46      0.10      0.16       709\n",
            "           1       0.43      0.36      0.39      2715\n",
            "           2       0.65      0.83      0.73      7905\n",
            "           3       0.47      0.42      0.44      3250\n",
            "           4       0.55      0.10      0.17       926\n",
            "\n",
            "    accuracy                           0.58     15505\n",
            "   macro avg       0.51      0.36      0.38     15505\n",
            "weighted avg       0.56      0.58      0.55     15505\n",
            "\n"
          ]
        }
      ]
    },
    {
      "cell_type": "code",
      "source": [
        "# Deep\n",
        "print('- - - - - - - \\nDeep Model')\n",
        "predictions = deep.predict(x_test_scaled)\n",
        "deep_preds = [np.argmax(predictions[i]) for i in range(predictions.shape[0])]\n",
        "# test_accuracy = accuracy_score(y_test, deep_preds)\n",
        "# print(\"Test Accuracy:\", test_accuracy)\n",
        "report = classification_report(y_test, deep_preds)\n",
        "print(report)"
      ],
      "metadata": {
        "colab": {
          "base_uri": "https://localhost:8080/"
        },
        "id": "WYDc6kK8S6ZJ",
        "outputId": "c67ef003-a9fb-497e-b95f-745855dd6b1e"
      },
      "execution_count": 83,
      "outputs": [
        {
          "output_type": "stream",
          "name": "stdout",
          "text": [
            "- - - - - - - \n",
            "Deep Model\n",
            "485/485 [==============================] - 1s 3ms/step\n",
            "              precision    recall  f1-score   support\n",
            "\n",
            "           0       0.48      0.24      0.32       709\n",
            "           1       0.49      0.47      0.48      2715\n",
            "           2       0.70      0.81      0.75      7905\n",
            "           3       0.54      0.49      0.52      3250\n",
            "           4       0.54      0.32      0.40       926\n",
            "\n",
            "    accuracy                           0.63     15505\n",
            "   macro avg       0.55      0.47      0.49     15505\n",
            "weighted avg       0.61      0.63      0.61     15505\n",
            "\n"
          ]
        }
      ]
    },
    {
      "cell_type": "code",
      "source": [
        "# FastText\n",
        "print('- - - - - - - \\nFastText Model Supervised')\n",
        "test_predictions = [fasttext_model_supervised.predict(text)[0][0] for text in test_sentences]\n",
        "# test_accuracy = sum([test_labels[i] == test_predictions[i] for i in range(len(test_labels))]) / len(test_labels)\n",
        "# print(\"Test Accuracy:\", test_accuracy)\n",
        "report = classification_report(test_labels, test_predictions)\n",
        "print(report)"
      ],
      "metadata": {
        "colab": {
          "base_uri": "https://localhost:8080/"
        },
        "id": "0W8tg4Ols5Gk",
        "outputId": "29a27998-64d5-4373-ec54-c728dc055f6b"
      },
      "execution_count": 85,
      "outputs": [
        {
          "output_type": "stream",
          "name": "stdout",
          "text": [
            "- - - - - - - \n",
            "FastText Model Supervised\n",
            "              precision    recall  f1-score   support\n",
            "\n",
            "  __label__0       0.49      0.37      0.42       709\n",
            "  __label__1       0.56      0.48      0.51      2715\n",
            "  __label__2       0.72      0.83      0.77      7905\n",
            "  __label__3       0.58      0.50      0.53      3250\n",
            "  __label__4       0.53      0.41      0.46       926\n",
            "\n",
            "    accuracy                           0.65     15505\n",
            "   macro avg       0.58      0.52      0.54     15505\n",
            "weighted avg       0.64      0.65      0.64     15505\n",
            "\n"
          ]
        }
      ]
    },
    {
      "cell_type": "code",
      "source": [
        "# RNN"
      ],
      "metadata": {
        "id": "FkeQivLUOqui"
      },
      "execution_count": null,
      "outputs": []
    },
    {
      "cell_type": "code",
      "source": [
        "\n",
        "# Create the ensemble model by combining predictions\n",
        "ensemble_predictions = np.vstack((lg_preds, dt_preds, ab_preds)).T\n",
        "\n",
        "# Create the voting classifier for ensemble\n",
        "voting_classifier = VotingClassifier(estimators=[\n",
        "    ('lg', best_lg_model),\n",
        "    ('dt', best_dt_model),\n",
        "    ('ab', adaboost_model),\n",
        "    # ('nn', nn_model),\n",
        "    # ('deep', deep)\n",
        "], voting='hard')\n",
        "\n",
        "voting_classifier.fit(x_train_scaled, y_train)\n",
        "\n"
      ],
      "metadata": {
        "colab": {
          "base_uri": "https://localhost:8080/",
          "height": 187
        },
        "id": "AEis1BoGT5sI",
        "outputId": "857fea13-dc15-48ec-c932-7e058949473c"
      },
      "execution_count": null,
      "outputs": [
        {
          "output_type": "stream",
          "name": "stderr",
          "text": [
            "/usr/local/lib/python3.10/dist-packages/sklearn/ensemble/_base.py:166: FutureWarning: `base_estimator` was renamed to `estimator` in version 1.2 and will be removed in 1.4.\n",
            "  warnings.warn(\n"
          ]
        },
        {
          "output_type": "execute_result",
          "data": {
            "text/plain": [
              "VotingClassifier(estimators=[('lg', LogisticRegression(max_iter=2000)),\n",
              "                             ('dt', DecisionTreeClassifier(max_depth=3)),\n",
              "                             ('ab',\n",
              "                              AdaBoostClassifier(base_estimator=DecisionTreeClassifier(max_depth=3)))])"
            ],
            "text/html": [
              "<style>#sk-container-id-4 {color: black;background-color: white;}#sk-container-id-4 pre{padding: 0;}#sk-container-id-4 div.sk-toggleable {background-color: white;}#sk-container-id-4 label.sk-toggleable__label {cursor: pointer;display: block;width: 100%;margin-bottom: 0;padding: 0.3em;box-sizing: border-box;text-align: center;}#sk-container-id-4 label.sk-toggleable__label-arrow:before {content: \"▸\";float: left;margin-right: 0.25em;color: #696969;}#sk-container-id-4 label.sk-toggleable__label-arrow:hover:before {color: black;}#sk-container-id-4 div.sk-estimator:hover label.sk-toggleable__label-arrow:before {color: black;}#sk-container-id-4 div.sk-toggleable__content {max-height: 0;max-width: 0;overflow: hidden;text-align: left;background-color: #f0f8ff;}#sk-container-id-4 div.sk-toggleable__content pre {margin: 0.2em;color: black;border-radius: 0.25em;background-color: #f0f8ff;}#sk-container-id-4 input.sk-toggleable__control:checked~div.sk-toggleable__content {max-height: 200px;max-width: 100%;overflow: auto;}#sk-container-id-4 input.sk-toggleable__control:checked~label.sk-toggleable__label-arrow:before {content: \"▾\";}#sk-container-id-4 div.sk-estimator input.sk-toggleable__control:checked~label.sk-toggleable__label {background-color: #d4ebff;}#sk-container-id-4 div.sk-label input.sk-toggleable__control:checked~label.sk-toggleable__label {background-color: #d4ebff;}#sk-container-id-4 input.sk-hidden--visually {border: 0;clip: rect(1px 1px 1px 1px);clip: rect(1px, 1px, 1px, 1px);height: 1px;margin: -1px;overflow: hidden;padding: 0;position: absolute;width: 1px;}#sk-container-id-4 div.sk-estimator {font-family: monospace;background-color: #f0f8ff;border: 1px dotted black;border-radius: 0.25em;box-sizing: border-box;margin-bottom: 0.5em;}#sk-container-id-4 div.sk-estimator:hover {background-color: #d4ebff;}#sk-container-id-4 div.sk-parallel-item::after {content: \"\";width: 100%;border-bottom: 1px solid gray;flex-grow: 1;}#sk-container-id-4 div.sk-label:hover label.sk-toggleable__label {background-color: #d4ebff;}#sk-container-id-4 div.sk-serial::before {content: \"\";position: absolute;border-left: 1px solid gray;box-sizing: border-box;top: 0;bottom: 0;left: 50%;z-index: 0;}#sk-container-id-4 div.sk-serial {display: flex;flex-direction: column;align-items: center;background-color: white;padding-right: 0.2em;padding-left: 0.2em;position: relative;}#sk-container-id-4 div.sk-item {position: relative;z-index: 1;}#sk-container-id-4 div.sk-parallel {display: flex;align-items: stretch;justify-content: center;background-color: white;position: relative;}#sk-container-id-4 div.sk-item::before, #sk-container-id-4 div.sk-parallel-item::before {content: \"\";position: absolute;border-left: 1px solid gray;box-sizing: border-box;top: 0;bottom: 0;left: 50%;z-index: -1;}#sk-container-id-4 div.sk-parallel-item {display: flex;flex-direction: column;z-index: 1;position: relative;background-color: white;}#sk-container-id-4 div.sk-parallel-item:first-child::after {align-self: flex-end;width: 50%;}#sk-container-id-4 div.sk-parallel-item:last-child::after {align-self: flex-start;width: 50%;}#sk-container-id-4 div.sk-parallel-item:only-child::after {width: 0;}#sk-container-id-4 div.sk-dashed-wrapped {border: 1px dashed gray;margin: 0 0.4em 0.5em 0.4em;box-sizing: border-box;padding-bottom: 0.4em;background-color: white;}#sk-container-id-4 div.sk-label label {font-family: monospace;font-weight: bold;display: inline-block;line-height: 1.2em;}#sk-container-id-4 div.sk-label-container {text-align: center;}#sk-container-id-4 div.sk-container {/* jupyter's `normalize.less` sets `[hidden] { display: none; }` but bootstrap.min.css set `[hidden] { display: none !important; }` so we also need the `!important` here to be able to override the default hidden behavior on the sphinx rendered scikit-learn.org. See: https://github.com/scikit-learn/scikit-learn/issues/21755 */display: inline-block !important;position: relative;}#sk-container-id-4 div.sk-text-repr-fallback {display: none;}</style><div id=\"sk-container-id-4\" class=\"sk-top-container\"><div class=\"sk-text-repr-fallback\"><pre>VotingClassifier(estimators=[(&#x27;lg&#x27;, LogisticRegression(max_iter=2000)),\n",
              "                             (&#x27;dt&#x27;, DecisionTreeClassifier(max_depth=3)),\n",
              "                             (&#x27;ab&#x27;,\n",
              "                              AdaBoostClassifier(base_estimator=DecisionTreeClassifier(max_depth=3)))])</pre><b>In a Jupyter environment, please rerun this cell to show the HTML representation or trust the notebook. <br />On GitHub, the HTML representation is unable to render, please try loading this page with nbviewer.org.</b></div><div class=\"sk-container\" hidden><div class=\"sk-item sk-dashed-wrapped\"><div class=\"sk-label-container\"><div class=\"sk-label sk-toggleable\"><input class=\"sk-toggleable__control sk-hidden--visually\" id=\"sk-estimator-id-12\" type=\"checkbox\" ><label for=\"sk-estimator-id-12\" class=\"sk-toggleable__label sk-toggleable__label-arrow\">VotingClassifier</label><div class=\"sk-toggleable__content\"><pre>VotingClassifier(estimators=[(&#x27;lg&#x27;, LogisticRegression(max_iter=2000)),\n",
              "                             (&#x27;dt&#x27;, DecisionTreeClassifier(max_depth=3)),\n",
              "                             (&#x27;ab&#x27;,\n",
              "                              AdaBoostClassifier(base_estimator=DecisionTreeClassifier(max_depth=3)))])</pre></div></div></div><div class=\"sk-parallel\"><div class=\"sk-parallel-item\"><div class=\"sk-item\"><div class=\"sk-label-container\"><div class=\"sk-label sk-toggleable\"><label>lg</label></div></div><div class=\"sk-serial\"><div class=\"sk-item\"><div class=\"sk-estimator sk-toggleable\"><input class=\"sk-toggleable__control sk-hidden--visually\" id=\"sk-estimator-id-13\" type=\"checkbox\" ><label for=\"sk-estimator-id-13\" class=\"sk-toggleable__label sk-toggleable__label-arrow\">LogisticRegression</label><div class=\"sk-toggleable__content\"><pre>LogisticRegression(max_iter=2000)</pre></div></div></div></div></div></div><div class=\"sk-parallel-item\"><div class=\"sk-item\"><div class=\"sk-label-container\"><div class=\"sk-label sk-toggleable\"><label>dt</label></div></div><div class=\"sk-serial\"><div class=\"sk-item\"><div class=\"sk-estimator sk-toggleable\"><input class=\"sk-toggleable__control sk-hidden--visually\" id=\"sk-estimator-id-14\" type=\"checkbox\" ><label for=\"sk-estimator-id-14\" class=\"sk-toggleable__label sk-toggleable__label-arrow\">DecisionTreeClassifier</label><div class=\"sk-toggleable__content\"><pre>DecisionTreeClassifier(max_depth=3)</pre></div></div></div></div></div></div><div class=\"sk-parallel-item\"><div class=\"sk-item\"><div class=\"sk-label-container\"><div class=\"sk-label sk-toggleable\"><label>ab</label></div></div><div class=\"sk-serial\"><div class=\"sk-item sk-dashed-wrapped\"><div class=\"sk-parallel\"><div class=\"sk-parallel-item\"><div class=\"sk-item\"><div class=\"sk-label-container\"><div class=\"sk-label sk-toggleable\"><input class=\"sk-toggleable__control sk-hidden--visually\" id=\"sk-estimator-id-15\" type=\"checkbox\" ><label for=\"sk-estimator-id-15\" class=\"sk-toggleable__label sk-toggleable__label-arrow\">base_estimator: DecisionTreeClassifier</label><div class=\"sk-toggleable__content\"><pre>DecisionTreeClassifier(max_depth=3)</pre></div></div></div><div class=\"sk-serial\"><div class=\"sk-item\"><div class=\"sk-estimator sk-toggleable\"><input class=\"sk-toggleable__control sk-hidden--visually\" id=\"sk-estimator-id-16\" type=\"checkbox\" ><label for=\"sk-estimator-id-16\" class=\"sk-toggleable__label sk-toggleable__label-arrow\">DecisionTreeClassifier</label><div class=\"sk-toggleable__content\"><pre>DecisionTreeClassifier(max_depth=3)</pre></div></div></div></div></div></div></div></div></div></div></div></div></div></div></div>"
            ]
          },
          "metadata": {},
          "execution_count": 59
        }
      ]
    },
    {
      "cell_type": "code",
      "source": [
        "ensemble_predictions = voting_classifier.predict(x_test_scaled)\n",
        "# accuracy_score(y_test, ensemble_predictions)\n",
        "report = classification_report(y_test, ensemble_predictions)\n",
        "print(report)"
      ],
      "metadata": {
        "colab": {
          "base_uri": "https://localhost:8080/"
        },
        "id": "cAfFV2sPU_E5",
        "outputId": "2d86c0e7-fce2-4757-f71f-0d23b2d185dc"
      },
      "execution_count": 86,
      "outputs": [
        {
          "output_type": "stream",
          "name": "stdout",
          "text": [
            "              precision    recall  f1-score   support\n",
            "\n",
            "           0       0.29      0.07      0.11       709\n",
            "           1       0.41      0.08      0.13      2715\n",
            "           2       0.54      0.95      0.69      7905\n",
            "           3       0.46      0.13      0.20      3250\n",
            "           4       0.55      0.03      0.06       926\n",
            "\n",
            "    accuracy                           0.53     15505\n",
            "   macro avg       0.45      0.25      0.24     15505\n",
            "weighted avg       0.49      0.53      0.43     15505\n",
            "\n"
          ]
        }
      ]
    },
    {
      "cell_type": "markdown",
      "source": [
        "# Conclusion\n",
        "We can conclude some notes according to the project."
      ],
      "metadata": {
        "id": "bem3SYQdOzXL"
      }
    },
    {
      "cell_type": "markdown",
      "source": [
        "# Kaggle Competition"
      ],
      "metadata": {
        "id": "0bN8VkzAjysz"
      }
    },
    {
      "cell_type": "code",
      "source": [
        "drive.mount('/content/drive')\n",
        "csv_path = '/content/drive/MyDrive/kaggle_test.csv'\n",
        "\n",
        "kaggle_df = pd.read_csv(csv_path)\n",
        "\n",
        "\n",
        "def save(preds, name):\n",
        "  indexes = [i+1 for i in range(len(preds))]\n",
        "  data = {'Sentiment': preds, 'ID': indexes}\n",
        "  df_csv = pd.DataFrame(data)\n",
        "  csv_file_path = name + '.csv'\n",
        "  df_csv.to_csv(csv_file_path, index=False)"
      ],
      "metadata": {
        "id": "kowv_S_Aj08Y",
        "colab": {
          "base_uri": "https://localhost:8080/"
        },
        "outputId": "80884aa0-b899-4288-aefd-fdf36fbc28f3"
      },
      "execution_count": 88,
      "outputs": [
        {
          "output_type": "stream",
          "name": "stdout",
          "text": [
            "Mounted at /content/drive\n"
          ]
        }
      ]
    },
    {
      "cell_type": "code",
      "source": [
        "# Preprocessing\n",
        "kaggle_df['Phrase'] = kaggle_df['Phrase'].apply(preprocess_text)\n",
        "kaggle_vectors = [extract_vectors(row[1][2]) for row in df.iterrows()]\n",
        "scaler = preprocessing.StandardScaler().fit(kaggle_vectors)\n",
        "kaggle_scaled = scaler.transform(kaggle_vectors)"
      ],
      "metadata": {
        "id": "c1RVY_rpG2_A"
      },
      "execution_count": 89,
      "outputs": []
    },
    {
      "cell_type": "markdown",
      "source": [
        "## FastText"
      ],
      "metadata": {
        "id": "IpKz7DyXIPgA"
      }
    },
    {
      "cell_type": "code",
      "source": [
        "kaggle_sentences = df['Phrase'].tolist()\n",
        "kaggle_preds_fasttext = [fasttext_model_supervised.predict(text)[0][0] for text in kaggle_sentences]\n",
        "kaggle_preds_fasttext = [x[-1] for x in kaggle_preds_fasttext]\n",
        "save(kaggle_preds_fasttext, 'fasttext')"
      ],
      "metadata": {
        "id": "BESvaiT8HU8P"
      },
      "execution_count": 90,
      "outputs": []
    },
    {
      "cell_type": "markdown",
      "source": [
        "## Adaboost"
      ],
      "metadata": {
        "id": "-X3J3GP7KcOv"
      }
    },
    {
      "cell_type": "code",
      "source": [
        "kaggle_preds_ab = adaboost_model.predict(kaggle_scaled)\n",
        "save(kaggle_preds_ab, 'adaboost')"
      ],
      "metadata": {
        "id": "K0A2EWYoKid-"
      },
      "execution_count": 92,
      "outputs": []
    },
    {
      "cell_type": "markdown",
      "source": [
        "## Logistic Regression"
      ],
      "metadata": {
        "id": "MA7QZWESK8e2"
      }
    },
    {
      "cell_type": "code",
      "source": [
        "kaggle_preds_lr = best_lg_model.predict(kaggle_scaled)\n",
        "save(kaggle_preds_lr, 'logistic_regression')"
      ],
      "metadata": {
        "id": "vX7NkdxPK-bG"
      },
      "execution_count": 93,
      "outputs": []
    },
    {
      "cell_type": "markdown",
      "source": [
        "## Decision Tree"
      ],
      "metadata": {
        "id": "QuMrDOf-LSQm"
      }
    },
    {
      "cell_type": "code",
      "source": [
        "kaggle_preds_dt = best_dt_model.predict(kaggle_scaled)\n",
        "save(kaggle_preds_dt, 'decision_tree')"
      ],
      "metadata": {
        "id": "_I7V_gktLWC2"
      },
      "execution_count": 94,
      "outputs": []
    },
    {
      "cell_type": "markdown",
      "source": [
        "## Simple Neural Network"
      ],
      "metadata": {
        "id": "5VNyEz4RLmCe"
      }
    },
    {
      "cell_type": "code",
      "source": [
        "kaggle_preds_nn = nn_model.predict(kaggle_scaled)\n",
        "kaggle_preds_nn = [np.argmax(kaggle_preds_nn[i]) for i in range(kaggle_preds_nn.shape[0])]\n",
        "save(kaggle_preds_nn, 'neural_networks')"
      ],
      "metadata": {
        "id": "1GwXBxoDLoD3",
        "colab": {
          "base_uri": "https://localhost:8080/"
        },
        "outputId": "a3c5211e-0b52-4520-a76c-50e479b5341c"
      },
      "execution_count": 95,
      "outputs": [
        {
          "output_type": "stream",
          "name": "stdout",
          "text": [
            "3877/3877 [==============================] - 5s 1ms/step\n"
          ]
        }
      ]
    },
    {
      "cell_type": "markdown",
      "source": [
        "## Deep Neural Network"
      ],
      "metadata": {
        "id": "jqo-Hm9cPbNJ"
      }
    },
    {
      "cell_type": "code",
      "source": [
        "kaggle_preds_deep = deep.predict(kaggle_scaled)\n",
        "kaggle_preds_deep = [np.argmax(kaggle_preds_deep[i]) for i in range(kaggle_preds_deep.shape[0])]\n",
        "save(kaggle_preds_deep, 'deep')"
      ],
      "metadata": {
        "id": "jP1Y9MJZPfq3",
        "colab": {
          "base_uri": "https://localhost:8080/"
        },
        "outputId": "28aee600-81f0-4af3-9118-dc9013f0118a"
      },
      "execution_count": 96,
      "outputs": [
        {
          "output_type": "stream",
          "name": "stdout",
          "text": [
            "3877/3877 [==============================] - 22s 6ms/step\n"
          ]
        }
      ]
    },
    {
      "cell_type": "markdown",
      "source": [
        "## Ensemble"
      ],
      "metadata": {
        "id": "X2KyeywxXPir"
      }
    },
    {
      "cell_type": "code",
      "source": [
        "kaggle_preds_deep = voting_classifier.predict(kaggle_scaled)\n",
        "kaggle_preds_ens = [np.argmax(kaggle_preds_deep[i]) for i in range(kaggle_preds_deep.shape[0])]\n",
        "save(kaggle_preds_ens, 'ensemble')"
      ],
      "metadata": {
        "id": "wjIlfHMyXO0Y"
      },
      "execution_count": 97,
      "outputs": []
    }
  ]
}