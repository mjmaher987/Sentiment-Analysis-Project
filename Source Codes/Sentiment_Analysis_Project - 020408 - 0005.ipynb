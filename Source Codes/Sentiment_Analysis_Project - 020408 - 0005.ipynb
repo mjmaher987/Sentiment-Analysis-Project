{
  "nbformat": 4,
  "nbformat_minor": 0,
  "metadata": {
    "colab": {
      "provenance": []
    },
    "kernelspec": {
      "name": "python3",
      "display_name": "Python 3"
    },
    "language_info": {
      "name": "python"
    }
  },
  "cells": [
    {
      "cell_type": "markdown",
      "source": [
        "# Sentiment Analysis Project"
      ],
      "metadata": {
        "id": "PHmJtW1C1e8r"
      }
    },
    {
      "cell_type": "markdown",
      "source": [
        "## Mohammad Javad Maheronnaghsh"
      ],
      "metadata": {
        "id": "gsoqLY7v1i1f"
      }
    },
    {
      "cell_type": "markdown",
      "source": [
        "# Libraries"
      ],
      "metadata": {
        "id": "5etbolPreOxu"
      }
    },
    {
      "cell_type": "code",
      "source": [
        "import pandas as pd\n",
        "import requests\n",
        "from io import StringIO\n",
        "import numpy as np"
      ],
      "metadata": {
        "id": "wZYTXsAyeNBi"
      },
      "execution_count": 1,
      "outputs": []
    },
    {
      "cell_type": "markdown",
      "source": [
        "# Data"
      ],
      "metadata": {
        "id": "UmEMuGFX1mz-"
      }
    },
    {
      "cell_type": "code",
      "execution_count": 2,
      "metadata": {
        "id": "cvX41GIa1bcb"
      },
      "outputs": [],
      "source": [
        "link = 'https://drive.google.com/u/0/uc?id=1BRhlDz-JASvfEljf_XxrL-ZH4gUvOg0v&export=download'\n",
        "r = requests.get(link)"
      ]
    },
    {
      "cell_type": "code",
      "source": [
        "df = pd.read_csv(StringIO(r.content.decode('utf-8')))"
      ],
      "metadata": {
        "id": "591CgWVmefkK"
      },
      "execution_count": 3,
      "outputs": []
    },
    {
      "cell_type": "code",
      "source": [
        "df"
      ],
      "metadata": {
        "colab": {
          "base_uri": "https://localhost:8080/",
          "height": 423
        },
        "id": "X_oU3RviehdZ",
        "outputId": "0070256e-6d5e-4113-afc7-f5d58e59bf60"
      },
      "execution_count": 4,
      "outputs": [
        {
          "output_type": "execute_result",
          "data": {
            "text/plain": [
              "        PhraseId  SentenceId  \\\n",
              "0              1           1   \n",
              "1              2           1   \n",
              "2              3           1   \n",
              "3              4           1   \n",
              "4              5           1   \n",
              "...          ...         ...   \n",
              "155043    155044        8485   \n",
              "155044    155045        8485   \n",
              "155045    155046        8485   \n",
              "155046    155047        8485   \n",
              "155047    155048        8485   \n",
              "\n",
              "                                                   Phrase  Sentiment  \n",
              "0       A series of escapades demonstrating the adage ...          1  \n",
              "1       A series of escapades demonstrating the adage ...          2  \n",
              "2                                                A series          2  \n",
              "3                                                       A          2  \n",
              "4                                                  series          2  \n",
              "...                                                   ...        ...  \n",
              "155043          Santa Clause 2 ' is wondrously creative .          4  \n",
              "155044                         ' is wondrously creative .          2  \n",
              "155045                           is wondrously creative .          3  \n",
              "155046                             is wondrously creative          4  \n",
              "155047                                wondrously creative          4  \n",
              "\n",
              "[155048 rows x 4 columns]"
            ],
            "text/html": [
              "\n",
              "  <div id=\"df-8bff02bb-210c-41b4-ada5-792ead3e1814\">\n",
              "    <div class=\"colab-df-container\">\n",
              "      <div>\n",
              "<style scoped>\n",
              "    .dataframe tbody tr th:only-of-type {\n",
              "        vertical-align: middle;\n",
              "    }\n",
              "\n",
              "    .dataframe tbody tr th {\n",
              "        vertical-align: top;\n",
              "    }\n",
              "\n",
              "    .dataframe thead th {\n",
              "        text-align: right;\n",
              "    }\n",
              "</style>\n",
              "<table border=\"1\" class=\"dataframe\">\n",
              "  <thead>\n",
              "    <tr style=\"text-align: right;\">\n",
              "      <th></th>\n",
              "      <th>PhraseId</th>\n",
              "      <th>SentenceId</th>\n",
              "      <th>Phrase</th>\n",
              "      <th>Sentiment</th>\n",
              "    </tr>\n",
              "  </thead>\n",
              "  <tbody>\n",
              "    <tr>\n",
              "      <th>0</th>\n",
              "      <td>1</td>\n",
              "      <td>1</td>\n",
              "      <td>A series of escapades demonstrating the adage ...</td>\n",
              "      <td>1</td>\n",
              "    </tr>\n",
              "    <tr>\n",
              "      <th>1</th>\n",
              "      <td>2</td>\n",
              "      <td>1</td>\n",
              "      <td>A series of escapades demonstrating the adage ...</td>\n",
              "      <td>2</td>\n",
              "    </tr>\n",
              "    <tr>\n",
              "      <th>2</th>\n",
              "      <td>3</td>\n",
              "      <td>1</td>\n",
              "      <td>A series</td>\n",
              "      <td>2</td>\n",
              "    </tr>\n",
              "    <tr>\n",
              "      <th>3</th>\n",
              "      <td>4</td>\n",
              "      <td>1</td>\n",
              "      <td>A</td>\n",
              "      <td>2</td>\n",
              "    </tr>\n",
              "    <tr>\n",
              "      <th>4</th>\n",
              "      <td>5</td>\n",
              "      <td>1</td>\n",
              "      <td>series</td>\n",
              "      <td>2</td>\n",
              "    </tr>\n",
              "    <tr>\n",
              "      <th>...</th>\n",
              "      <td>...</td>\n",
              "      <td>...</td>\n",
              "      <td>...</td>\n",
              "      <td>...</td>\n",
              "    </tr>\n",
              "    <tr>\n",
              "      <th>155043</th>\n",
              "      <td>155044</td>\n",
              "      <td>8485</td>\n",
              "      <td>Santa Clause 2 ' is wondrously creative .</td>\n",
              "      <td>4</td>\n",
              "    </tr>\n",
              "    <tr>\n",
              "      <th>155044</th>\n",
              "      <td>155045</td>\n",
              "      <td>8485</td>\n",
              "      <td>' is wondrously creative .</td>\n",
              "      <td>2</td>\n",
              "    </tr>\n",
              "    <tr>\n",
              "      <th>155045</th>\n",
              "      <td>155046</td>\n",
              "      <td>8485</td>\n",
              "      <td>is wondrously creative .</td>\n",
              "      <td>3</td>\n",
              "    </tr>\n",
              "    <tr>\n",
              "      <th>155046</th>\n",
              "      <td>155047</td>\n",
              "      <td>8485</td>\n",
              "      <td>is wondrously creative</td>\n",
              "      <td>4</td>\n",
              "    </tr>\n",
              "    <tr>\n",
              "      <th>155047</th>\n",
              "      <td>155048</td>\n",
              "      <td>8485</td>\n",
              "      <td>wondrously creative</td>\n",
              "      <td>4</td>\n",
              "    </tr>\n",
              "  </tbody>\n",
              "</table>\n",
              "<p>155048 rows × 4 columns</p>\n",
              "</div>\n",
              "      <button class=\"colab-df-convert\" onclick=\"convertToInteractive('df-8bff02bb-210c-41b4-ada5-792ead3e1814')\"\n",
              "              title=\"Convert this dataframe to an interactive table.\"\n",
              "              style=\"display:none;\">\n",
              "        \n",
              "  <svg xmlns=\"http://www.w3.org/2000/svg\" height=\"24px\"viewBox=\"0 0 24 24\"\n",
              "       width=\"24px\">\n",
              "    <path d=\"M0 0h24v24H0V0z\" fill=\"none\"/>\n",
              "    <path d=\"M18.56 5.44l.94 2.06.94-2.06 2.06-.94-2.06-.94-.94-2.06-.94 2.06-2.06.94zm-11 1L8.5 8.5l.94-2.06 2.06-.94-2.06-.94L8.5 2.5l-.94 2.06-2.06.94zm10 10l.94 2.06.94-2.06 2.06-.94-2.06-.94-.94-2.06-.94 2.06-2.06.94z\"/><path d=\"M17.41 7.96l-1.37-1.37c-.4-.4-.92-.59-1.43-.59-.52 0-1.04.2-1.43.59L10.3 9.45l-7.72 7.72c-.78.78-.78 2.05 0 2.83L4 21.41c.39.39.9.59 1.41.59.51 0 1.02-.2 1.41-.59l7.78-7.78 2.81-2.81c.8-.78.8-2.07 0-2.86zM5.41 20L4 18.59l7.72-7.72 1.47 1.35L5.41 20z\"/>\n",
              "  </svg>\n",
              "      </button>\n",
              "      \n",
              "  <style>\n",
              "    .colab-df-container {\n",
              "      display:flex;\n",
              "      flex-wrap:wrap;\n",
              "      gap: 12px;\n",
              "    }\n",
              "\n",
              "    .colab-df-convert {\n",
              "      background-color: #E8F0FE;\n",
              "      border: none;\n",
              "      border-radius: 50%;\n",
              "      cursor: pointer;\n",
              "      display: none;\n",
              "      fill: #1967D2;\n",
              "      height: 32px;\n",
              "      padding: 0 0 0 0;\n",
              "      width: 32px;\n",
              "    }\n",
              "\n",
              "    .colab-df-convert:hover {\n",
              "      background-color: #E2EBFA;\n",
              "      box-shadow: 0px 1px 2px rgba(60, 64, 67, 0.3), 0px 1px 3px 1px rgba(60, 64, 67, 0.15);\n",
              "      fill: #174EA6;\n",
              "    }\n",
              "\n",
              "    [theme=dark] .colab-df-convert {\n",
              "      background-color: #3B4455;\n",
              "      fill: #D2E3FC;\n",
              "    }\n",
              "\n",
              "    [theme=dark] .colab-df-convert:hover {\n",
              "      background-color: #434B5C;\n",
              "      box-shadow: 0px 1px 3px 1px rgba(0, 0, 0, 0.15);\n",
              "      filter: drop-shadow(0px 1px 2px rgba(0, 0, 0, 0.3));\n",
              "      fill: #FFFFFF;\n",
              "    }\n",
              "  </style>\n",
              "\n",
              "      <script>\n",
              "        const buttonEl =\n",
              "          document.querySelector('#df-8bff02bb-210c-41b4-ada5-792ead3e1814 button.colab-df-convert');\n",
              "        buttonEl.style.display =\n",
              "          google.colab.kernel.accessAllowed ? 'block' : 'none';\n",
              "\n",
              "        async function convertToInteractive(key) {\n",
              "          const element = document.querySelector('#df-8bff02bb-210c-41b4-ada5-792ead3e1814');\n",
              "          const dataTable =\n",
              "            await google.colab.kernel.invokeFunction('convertToInteractive',\n",
              "                                                     [key], {});\n",
              "          if (!dataTable) return;\n",
              "\n",
              "          const docLinkHtml = 'Like what you see? Visit the ' +\n",
              "            '<a target=\"_blank\" href=https://colab.research.google.com/notebooks/data_table.ipynb>data table notebook</a>'\n",
              "            + ' to learn more about interactive tables.';\n",
              "          element.innerHTML = '';\n",
              "          dataTable['output_type'] = 'display_data';\n",
              "          await google.colab.output.renderOutput(dataTable, element);\n",
              "          const docLink = document.createElement('div');\n",
              "          docLink.innerHTML = docLinkHtml;\n",
              "          element.appendChild(docLink);\n",
              "        }\n",
              "      </script>\n",
              "    </div>\n",
              "  </div>\n",
              "  "
            ]
          },
          "metadata": {},
          "execution_count": 4
        }
      ]
    },
    {
      "cell_type": "markdown",
      "source": [
        "# Data Split"
      ],
      "metadata": {
        "id": "2-w_Fhnw1vGn"
      }
    },
    {
      "cell_type": "code",
      "source": [
        "y = df['Sentiment']\n",
        "x = df.drop('Sentiment', axis = 1)"
      ],
      "metadata": {
        "id": "UXWzeGZXx_S4"
      },
      "execution_count": 5,
      "outputs": []
    },
    {
      "cell_type": "code",
      "source": [
        "print(x.shape)\n",
        "print(y.shape)"
      ],
      "metadata": {
        "colab": {
          "base_uri": "https://localhost:8080/"
        },
        "id": "AyWBqf31yi75",
        "outputId": "14be78c3-ca71-44d2-bb8b-33327ae238b8"
      },
      "execution_count": 6,
      "outputs": [
        {
          "output_type": "stream",
          "name": "stdout",
          "text": [
            "(155048, 3)\n",
            "(155048,)\n"
          ]
        }
      ]
    },
    {
      "cell_type": "code",
      "source": [
        "# Train/Validation/Test = 0.8/0.1/0.1\n",
        "# stratify or not?\n",
        "from sklearn.model_selection import train_test_split\n",
        "x_train, x_, y_train, y_ = train_test_split(x, y, test_size=0.2)\n",
        "x_valid, x_test, y_valid, y_test = train_test_split(x_, y_, test_size=0.5)"
      ],
      "metadata": {
        "id": "ZBcAgcJf1yPz"
      },
      "execution_count": 7,
      "outputs": []
    },
    {
      "cell_type": "markdown",
      "source": [
        "# Preprocessing\n",
        "Here we are going to preprocess the data\n",
        "and extract the features"
      ],
      "metadata": {
        "id": "u6cEb3BC1ybT"
      }
    },
    {
      "cell_type": "markdown",
      "source": [
        "## First Apperoach: Basic Tools"
      ],
      "metadata": {
        "id": "xoqF36rrdedI"
      }
    },
    {
      "cell_type": "markdown",
      "source": [
        "What to do?\n",
        "\n",
        "\n",
        "1.   Convert Capital Letters to Little Ones (English words)\n",
        "2.   Delete Punctuations, etc.\n",
        "3.   Delete Stop Words\n",
        "4.   Find Origination of words\n",
        "5.   Provide a list of remaind words\n",
        "6.   Find TF-IDF vector\n",
        "\n",
        "**Note: Weight of each token should be determined using train data**\n"
      ],
      "metadata": {
        "id": "P706-5oNeBrc"
      }
    },
    {
      "cell_type": "code",
      "source": [
        "# ! pip install fasttext"
      ],
      "metadata": {
        "id": "e70VEiyI2Q41"
      },
      "execution_count": 8,
      "outputs": []
    },
    {
      "cell_type": "code",
      "source": [
        "# ! git clone git@github.com:f20500909/glove_py.git\n",
        "# ! python3 setup.py install"
      ],
      "metadata": {
        "id": "lIgv-9Y03Ar7"
      },
      "execution_count": 9,
      "outputs": []
    },
    {
      "cell_type": "code",
      "source": [
        "# import numpy as np\n",
        "# import fasttext\n",
        "# from sklearn.feature_extraction.text import TfidfVectorizer\n",
        "# from gensim.models import Word2Vec\n",
        "# from gensim.models.keyedvectors import KeyedVectors\n",
        "# # from glove import *\n",
        "\n",
        "# # from glove import Corpus, Glove\n",
        "# # GloVe\n",
        "# corpus = Corpus()\n",
        "# corpus.fit(x_train, window=10)\n",
        "# glove_model = Glove(no_components=100, learning_rate=0.05)\n",
        "# glove_model.fit(corpus.matrix, epochs=10)\n",
        "# glove_model.add_dictionary(corpus.dictionary)\n",
        "# glove_vectors = []\n",
        "# for doc in x_train:\n",
        "#     vec = np.zeros(glove_model.no_components)\n",
        "#     for word in doc.split():\n",
        "#         if word in glove_model.dictionary:\n",
        "#             vec += glove_model.word_vectors[glove_model.dictionary[word]]\n",
        "#     glove_vectors.append(vec)"
      ],
      "metadata": {
        "id": "VowgejUT2DHX"
      },
      "execution_count": 10,
      "outputs": []
    },
    {
      "cell_type": "markdown",
      "source": [
        "## Second Approach: Using Ready Tools"
      ],
      "metadata": {
        "id": "in7A6btnd0dP"
      }
    },
    {
      "cell_type": "markdown",
      "source": [
        "What to do?\n",
        "We want to use one of the following models:\n",
        "1.  Word2Vec\n",
        "2.  FastText\n",
        "3.  GloVe\n",
        "\n",
        "These are the models that are frequently used in NLP areas for deature extraction from words and statements."
      ],
      "metadata": {
        "id": "C2_0-BP9e9vG"
      }
    },
    {
      "cell_type": "code",
      "source": [
        "# install library\n",
        "! pip install fasttext"
      ],
      "metadata": {
        "colab": {
          "base_uri": "https://localhost:8080/"
        },
        "id": "W0B18LYFjm5G",
        "outputId": "4f863a17-b463-4324-806c-e193df5abd12"
      },
      "execution_count": 11,
      "outputs": [
        {
          "output_type": "stream",
          "name": "stdout",
          "text": [
            "Requirement already satisfied: fasttext in /usr/local/lib/python3.10/dist-packages (0.9.2)\n",
            "Requirement already satisfied: pybind11>=2.2 in /usr/local/lib/python3.10/dist-packages (from fasttext) (2.10.4)\n",
            "Requirement already satisfied: setuptools>=0.7.0 in /usr/local/lib/python3.10/dist-packages (from fasttext) (67.7.2)\n",
            "Requirement already satisfied: numpy in /usr/local/lib/python3.10/dist-packages (from fasttext) (1.22.4)\n"
          ]
        }
      ]
    },
    {
      "cell_type": "code",
      "source": [
        "x.shape"
      ],
      "metadata": {
        "colab": {
          "base_uri": "https://localhost:8080/"
        },
        "id": "xO3cY8-Bj_6b",
        "outputId": "db4cbefb-a00f-43db-8b21-e3f9c3ff24da"
      },
      "execution_count": 12,
      "outputs": [
        {
          "output_type": "execute_result",
          "data": {
            "text/plain": [
              "(155048, 3)"
            ]
          },
          "metadata": {},
          "execution_count": 12
        }
      ]
    },
    {
      "cell_type": "code",
      "source": [
        "type(x)"
      ],
      "metadata": {
        "colab": {
          "base_uri": "https://localhost:8080/"
        },
        "id": "sk1_wBe0kBo2",
        "outputId": "0321a6df-c0de-4f81-c73d-46c20fc44068"
      },
      "execution_count": 13,
      "outputs": [
        {
          "output_type": "execute_result",
          "data": {
            "text/plain": [
              "pandas.core.frame.DataFrame"
            ]
          },
          "metadata": {},
          "execution_count": 13
        }
      ]
    },
    {
      "cell_type": "code",
      "source": [
        "# FastText\n",
        "import fasttext\n",
        "\n",
        "def create_file(input, file_name):\n",
        "  preprocessed_sentences = []\n",
        "  for index, row in input.iterrows():\n",
        "      phrase = row['Phrase']\n",
        "\n",
        "      # Split by space\n",
        "      tokens = phrase.split()\n",
        "\n",
        "      # Filter out non-alphabetic tokens\n",
        "      filtered_tokens = [token for token in tokens if token.isalpha()]\n",
        "      if len(filtered_tokens) > 0:\n",
        "        preprocessed_sentences.append(\" \".join(filtered_tokens))\n",
        "      else:\n",
        "        preprocessed_sentences.append('random text')\n",
        "\n",
        "  # Save preprocessed sentences to a text file\n",
        "  with open(file_name, 'w', encoding='utf-8') as f:\n",
        "      f.write('\\n'.join(preprocessed_sentences))\n",
        "\n",
        "create_file(x_train, 'train.txt')\n",
        "create_file(x_valid, 'val.txt')\n",
        "# Train FastText word embeddings\n",
        "# model = fasttext.train_unsupervised('preprocessed.txt', model='cbow')\n",
        "\n",
        "# # Save word vectors to a file\n",
        "# model.save_model('fasttext_model.bin')\n"
      ],
      "metadata": {
        "id": "38Yob8XKd59M"
      },
      "execution_count": 14,
      "outputs": []
    },
    {
      "cell_type": "code",
      "source": [
        "# # TF-IDF vectorization\n",
        "# from sklearn.feature_extraction.text import TfidfVectorizer\n",
        "\n",
        "# vectorizer = TfidfVectorizer()\n",
        "# x_tfidf = vectorizer.fit_transform(preprocessed_sentences)\n",
        "# remaining_tokens = vectorizer.get_feature_names()\n",
        "\n",
        "# for token in remaining_tokens:\n",
        "#         vector = model.get_word_vector(token)\n",
        "#         vector_str = ' '.join(str(value) for value in vector)\n",
        "#         line = f'{token} {vector_str}\\n'\n",
        "#         f.write(line)\n",
        "# Get word vectors\n",
        "\n",
        "\n",
        "\n",
        "# word_vectors = []\n",
        "# for sentence in preprocessed_sentences:\n",
        "#     tokens = sentence.split()\n",
        "#     sentence_vector = np.zeros(model.get_dimension())\n",
        "#     for token in tokens:\n",
        "#         sentence_vector += model.get_word_vector(token)\n",
        "#     sentence_vector /= len(tokens)\n",
        "#     word_vectors.append(sentence_vector)\n",
        "\n",
        "# # Convert word vectors to numpy array (the target vector)\n",
        "# sentence_vectors = np.array(word_vectors)"
      ],
      "metadata": {
        "id": "J95dUGnik1FG"
      },
      "execution_count": 15,
      "outputs": []
    },
    {
      "cell_type": "markdown",
      "source": [
        "# Train the Models"
      ],
      "metadata": {
        "id": "AXpo5mh82DSx"
      }
    },
    {
      "cell_type": "code",
      "source": [
        "from sklearn.feature_extraction.text import TfidfVectorizer\n",
        "\n",
        "import re\n",
        "import nltk\n",
        "from nltk.corpus import stopwords\n",
        "from sklearn.feature_extraction.text import TfidfVectorizer\n",
        "import fasttext\n",
        "\n",
        "# Download the required resources from NLTK\n",
        "nltk.download('stopwords')\n",
        "nltk.download('punkt')\n",
        "\n",
        "# Preprocessing Steps\n",
        "stop_words = set(stopwords.words('english'))\n",
        "\n",
        "def preprocess_text(text):\n",
        "    text = text.lower()\n",
        "    text = re.sub(r'[^\\w\\s]', '', text)\n",
        "    tokens = nltk.word_tokenize(text)\n",
        "    tokens = [word for word in tokens if word not in stop_words]\n",
        "    return ' '.join(tokens)\n",
        "\n",
        "x_train['Phrase'] = x_train['Phrase'].apply(preprocess_text)\n",
        "x_valid['Phrase'] = x_valid['Phrase'].apply(preprocess_text)\n",
        "x_test['Phrase'] = x_test['Phrase'].apply(preprocess_text)\n",
        "\n",
        "\n"
      ],
      "metadata": {
        "colab": {
          "base_uri": "https://localhost:8080/"
        },
        "id": "Cj0BMF3_izWj",
        "outputId": "7c35612e-183b-4041-9af5-1cf6fd70e3ee"
      },
      "execution_count": 16,
      "outputs": [
        {
          "output_type": "stream",
          "name": "stderr",
          "text": [
            "[nltk_data] Downloading package stopwords to /root/nltk_data...\n",
            "[nltk_data]   Package stopwords is already up-to-date!\n",
            "[nltk_data] Downloading package punkt to /root/nltk_data...\n",
            "[nltk_data]   Package punkt is already up-to-date!\n"
          ]
        }
      ]
    },
    {
      "cell_type": "code",
      "source": [
        "x_train.shape"
      ],
      "metadata": {
        "colab": {
          "base_uri": "https://localhost:8080/"
        },
        "id": "COWp25-jkgGu",
        "outputId": "81fb3729-d413-49da-fe88-c61ca50d968a"
      },
      "execution_count": 17,
      "outputs": [
        {
          "output_type": "execute_result",
          "data": {
            "text/plain": [
              "(124038, 3)"
            ]
          },
          "metadata": {},
          "execution_count": 17
        }
      ]
    },
    {
      "cell_type": "code",
      "source": [
        "train = np.hstack((x_train, y_train.values.reshape(-1, 1)))"
      ],
      "metadata": {
        "id": "fWcRPDsrkc-f"
      },
      "execution_count": 18,
      "outputs": []
    },
    {
      "cell_type": "code",
      "source": [
        "df = pd.DataFrame(train, columns=['PhraseId', 'SentenceId', 'Phrase', 'Sentiment'])"
      ],
      "metadata": {
        "id": "yBlfjsRQkz4s"
      },
      "execution_count": 19,
      "outputs": []
    },
    {
      "cell_type": "code",
      "source": [
        "df"
      ],
      "metadata": {
        "colab": {
          "base_uri": "https://localhost:8080/",
          "height": 423
        },
        "id": "Thz7AveKleHo",
        "outputId": "86391625-d583-406e-87d2-9535245b8114"
      },
      "execution_count": 20,
      "outputs": [
        {
          "output_type": "execute_result",
          "data": {
            "text/plain": [
              "       PhraseId SentenceId                                             Phrase  \\\n",
              "0         60468       3053                                         mediocrity   \n",
              "1         14100        608  compelling allegory last days germany democrat...   \n",
              "2         22642       1024                                          showcases   \n",
              "3        136130       7356                                              write   \n",
              "4         85981       4449  interesting look life campaigntrail press espe...   \n",
              "...         ...        ...                                                ...   \n",
              "124033    59276       2990                                   cho may intended   \n",
              "124034    55694       2785                              derivative collection   \n",
              "124035   146573       7972                          nitpicky hypocrisies time   \n",
              "124036    99730       5232            look positively shakesperean comparison   \n",
              "124037    40054       1918                                  literate material   \n",
              "\n",
              "       Sentiment  \n",
              "0              1  \n",
              "1              3  \n",
              "2              2  \n",
              "3              2  \n",
              "4              3  \n",
              "...          ...  \n",
              "124033         2  \n",
              "124034         2  \n",
              "124035         1  \n",
              "124036         2  \n",
              "124037         2  \n",
              "\n",
              "[124038 rows x 4 columns]"
            ],
            "text/html": [
              "\n",
              "  <div id=\"df-710ee575-9102-4e77-b0e8-51b1a749e392\">\n",
              "    <div class=\"colab-df-container\">\n",
              "      <div>\n",
              "<style scoped>\n",
              "    .dataframe tbody tr th:only-of-type {\n",
              "        vertical-align: middle;\n",
              "    }\n",
              "\n",
              "    .dataframe tbody tr th {\n",
              "        vertical-align: top;\n",
              "    }\n",
              "\n",
              "    .dataframe thead th {\n",
              "        text-align: right;\n",
              "    }\n",
              "</style>\n",
              "<table border=\"1\" class=\"dataframe\">\n",
              "  <thead>\n",
              "    <tr style=\"text-align: right;\">\n",
              "      <th></th>\n",
              "      <th>PhraseId</th>\n",
              "      <th>SentenceId</th>\n",
              "      <th>Phrase</th>\n",
              "      <th>Sentiment</th>\n",
              "    </tr>\n",
              "  </thead>\n",
              "  <tbody>\n",
              "    <tr>\n",
              "      <th>0</th>\n",
              "      <td>60468</td>\n",
              "      <td>3053</td>\n",
              "      <td>mediocrity</td>\n",
              "      <td>1</td>\n",
              "    </tr>\n",
              "    <tr>\n",
              "      <th>1</th>\n",
              "      <td>14100</td>\n",
              "      <td>608</td>\n",
              "      <td>compelling allegory last days germany democrat...</td>\n",
              "      <td>3</td>\n",
              "    </tr>\n",
              "    <tr>\n",
              "      <th>2</th>\n",
              "      <td>22642</td>\n",
              "      <td>1024</td>\n",
              "      <td>showcases</td>\n",
              "      <td>2</td>\n",
              "    </tr>\n",
              "    <tr>\n",
              "      <th>3</th>\n",
              "      <td>136130</td>\n",
              "      <td>7356</td>\n",
              "      <td>write</td>\n",
              "      <td>2</td>\n",
              "    </tr>\n",
              "    <tr>\n",
              "      <th>4</th>\n",
              "      <td>85981</td>\n",
              "      <td>4449</td>\n",
              "      <td>interesting look life campaigntrail press espe...</td>\n",
              "      <td>3</td>\n",
              "    </tr>\n",
              "    <tr>\n",
              "      <th>...</th>\n",
              "      <td>...</td>\n",
              "      <td>...</td>\n",
              "      <td>...</td>\n",
              "      <td>...</td>\n",
              "    </tr>\n",
              "    <tr>\n",
              "      <th>124033</th>\n",
              "      <td>59276</td>\n",
              "      <td>2990</td>\n",
              "      <td>cho may intended</td>\n",
              "      <td>2</td>\n",
              "    </tr>\n",
              "    <tr>\n",
              "      <th>124034</th>\n",
              "      <td>55694</td>\n",
              "      <td>2785</td>\n",
              "      <td>derivative collection</td>\n",
              "      <td>2</td>\n",
              "    </tr>\n",
              "    <tr>\n",
              "      <th>124035</th>\n",
              "      <td>146573</td>\n",
              "      <td>7972</td>\n",
              "      <td>nitpicky hypocrisies time</td>\n",
              "      <td>1</td>\n",
              "    </tr>\n",
              "    <tr>\n",
              "      <th>124036</th>\n",
              "      <td>99730</td>\n",
              "      <td>5232</td>\n",
              "      <td>look positively shakesperean comparison</td>\n",
              "      <td>2</td>\n",
              "    </tr>\n",
              "    <tr>\n",
              "      <th>124037</th>\n",
              "      <td>40054</td>\n",
              "      <td>1918</td>\n",
              "      <td>literate material</td>\n",
              "      <td>2</td>\n",
              "    </tr>\n",
              "  </tbody>\n",
              "</table>\n",
              "<p>124038 rows × 4 columns</p>\n",
              "</div>\n",
              "      <button class=\"colab-df-convert\" onclick=\"convertToInteractive('df-710ee575-9102-4e77-b0e8-51b1a749e392')\"\n",
              "              title=\"Convert this dataframe to an interactive table.\"\n",
              "              style=\"display:none;\">\n",
              "        \n",
              "  <svg xmlns=\"http://www.w3.org/2000/svg\" height=\"24px\"viewBox=\"0 0 24 24\"\n",
              "       width=\"24px\">\n",
              "    <path d=\"M0 0h24v24H0V0z\" fill=\"none\"/>\n",
              "    <path d=\"M18.56 5.44l.94 2.06.94-2.06 2.06-.94-2.06-.94-.94-2.06-.94 2.06-2.06.94zm-11 1L8.5 8.5l.94-2.06 2.06-.94-2.06-.94L8.5 2.5l-.94 2.06-2.06.94zm10 10l.94 2.06.94-2.06 2.06-.94-2.06-.94-.94-2.06-.94 2.06-2.06.94z\"/><path d=\"M17.41 7.96l-1.37-1.37c-.4-.4-.92-.59-1.43-.59-.52 0-1.04.2-1.43.59L10.3 9.45l-7.72 7.72c-.78.78-.78 2.05 0 2.83L4 21.41c.39.39.9.59 1.41.59.51 0 1.02-.2 1.41-.59l7.78-7.78 2.81-2.81c.8-.78.8-2.07 0-2.86zM5.41 20L4 18.59l7.72-7.72 1.47 1.35L5.41 20z\"/>\n",
              "  </svg>\n",
              "      </button>\n",
              "      \n",
              "  <style>\n",
              "    .colab-df-container {\n",
              "      display:flex;\n",
              "      flex-wrap:wrap;\n",
              "      gap: 12px;\n",
              "    }\n",
              "\n",
              "    .colab-df-convert {\n",
              "      background-color: #E8F0FE;\n",
              "      border: none;\n",
              "      border-radius: 50%;\n",
              "      cursor: pointer;\n",
              "      display: none;\n",
              "      fill: #1967D2;\n",
              "      height: 32px;\n",
              "      padding: 0 0 0 0;\n",
              "      width: 32px;\n",
              "    }\n",
              "\n",
              "    .colab-df-convert:hover {\n",
              "      background-color: #E2EBFA;\n",
              "      box-shadow: 0px 1px 2px rgba(60, 64, 67, 0.3), 0px 1px 3px 1px rgba(60, 64, 67, 0.15);\n",
              "      fill: #174EA6;\n",
              "    }\n",
              "\n",
              "    [theme=dark] .colab-df-convert {\n",
              "      background-color: #3B4455;\n",
              "      fill: #D2E3FC;\n",
              "    }\n",
              "\n",
              "    [theme=dark] .colab-df-convert:hover {\n",
              "      background-color: #434B5C;\n",
              "      box-shadow: 0px 1px 3px 1px rgba(0, 0, 0, 0.15);\n",
              "      filter: drop-shadow(0px 1px 2px rgba(0, 0, 0, 0.3));\n",
              "      fill: #FFFFFF;\n",
              "    }\n",
              "  </style>\n",
              "\n",
              "      <script>\n",
              "        const buttonEl =\n",
              "          document.querySelector('#df-710ee575-9102-4e77-b0e8-51b1a749e392 button.colab-df-convert');\n",
              "        buttonEl.style.display =\n",
              "          google.colab.kernel.accessAllowed ? 'block' : 'none';\n",
              "\n",
              "        async function convertToInteractive(key) {\n",
              "          const element = document.querySelector('#df-710ee575-9102-4e77-b0e8-51b1a749e392');\n",
              "          const dataTable =\n",
              "            await google.colab.kernel.invokeFunction('convertToInteractive',\n",
              "                                                     [key], {});\n",
              "          if (!dataTable) return;\n",
              "\n",
              "          const docLinkHtml = 'Like what you see? Visit the ' +\n",
              "            '<a target=\"_blank\" href=https://colab.research.google.com/notebooks/data_table.ipynb>data table notebook</a>'\n",
              "            + ' to learn more about interactive tables.';\n",
              "          element.innerHTML = '';\n",
              "          dataTable['output_type'] = 'display_data';\n",
              "          await google.colab.output.renderOutput(dataTable, element);\n",
              "          const docLink = document.createElement('div');\n",
              "          docLink.innerHTML = docLinkHtml;\n",
              "          element.appendChild(docLink);\n",
              "        }\n",
              "      </script>\n",
              "    </div>\n",
              "  </div>\n",
              "  "
            ]
          },
          "metadata": {},
          "execution_count": 20
        }
      ]
    },
    {
      "cell_type": "code",
      "source": [
        "# Training data\n",
        "train_sentences = x_train['Phrase'].tolist()\n",
        "train_labels = y_train.tolist()\n",
        "\n",
        "# Validation data\n",
        "val_sentences = x_valid['Phrase'].tolist()\n",
        "val_labels = y_valid.tolist()\n",
        "\n",
        "# Test data\n",
        "test_sentences = x_test['Phrase'].tolist()\n",
        "test_labels = y_test.tolist()\n",
        "\n",
        "# Generate TF-IDF vectors using scikit-learn's TfidfVectorizer\n",
        "vectorizer = TfidfVectorizer()\n",
        "X_train_tfidf = vectorizer.fit_transform(train_sentences)\n",
        "X_val_tfidf = vectorizer.transform(val_sentences)\n",
        "X_test_tfidf = vectorizer.transform(test_sentences)\n",
        "\n",
        "\n",
        "\n",
        "df.to_csv('preprocessed_train_dataset.csv', index=False, header=False, columns=['Phrase'])\n",
        "\n",
        "# Training data\n",
        "train_data_path = 'preprocessed_train_dataset.csv'\n",
        "\n",
        "\n",
        "# Prepare training data in FastText format\n",
        "train_data = ['__label__' + str(label) + ' ' + sentence for label, sentence in zip(train_labels, train_sentences)]\n",
        "\n",
        "# Save the training data to a text file\n",
        "train_data_path = 'preprocessed_train_data.txt'\n",
        "with open(train_data_path, 'w') as f:\n",
        "    for item in train_data:\n",
        "        f.write(\"%s\\n\" % item)\n",
        "\n",
        "\n",
        "val_labels = ['__label__' + str(x) for x in val_labels]\n",
        "test_labels = ['__label__' + str(x) for x in test_labels]\n",
        "\n",
        "best_accuracy = 0\n",
        "best_model = None\n",
        "\n",
        "for lr in [0.05, 0.1]:\n",
        "  for epoch in [10, 30]:\n",
        "    for dim in [10, 100]:\n",
        "      # Train FastText model\n",
        "      ft_model = fasttext.train_supervised(\n",
        "          input=train_data_path,\n",
        "          epoch=epoch,\n",
        "          lr=lr,\n",
        "          wordNgrams=2,\n",
        "          bucket=200000,\n",
        "          dim=dim\n",
        "      )\n",
        "\n",
        "      # Predict on validation data\n",
        "      val_predictions = [ft_model.predict(text)[0][0] for text in val_sentences]\n",
        "\n",
        "      # Calculate accuracy on validation data\n",
        "\n",
        "      val_accuracy = sum([val_labels[i] == val_predictions[i] for i in range(len(val_labels))]) / len(val_labels)\n",
        "      if val_accuracy > best_accuracy:\n",
        "        best_accuracy = val_accuracy\n",
        "        best_model = ft_model\n",
        "\n"
      ],
      "metadata": {
        "id": "RB2GwQhBhDX-"
      },
      "execution_count": 27,
      "outputs": []
    },
    {
      "cell_type": "markdown",
      "source": [
        "# Evaluate the Models"
      ],
      "metadata": {
        "id": "ThG-Sjz72HG4"
      }
    },
    {
      "cell_type": "code",
      "source": [
        "# Predict on test data\n",
        "test_predictions = [best_model.predict(text)[0][0] for text in test_sentences]\n",
        "\n",
        "# Calculate accuracy on test data\n",
        "test_accuracy = sum([test_labels[i] == test_predictions[i] for i in range(len(test_labels))]) / len(test_labels)\n",
        "print(\"Test Accuracy:\", test_accuracy)"
      ],
      "metadata": {
        "colab": {
          "base_uri": "https://localhost:8080/"
        },
        "id": "0W8tg4Ols5Gk",
        "outputId": "fdaa70dc-42fe-4856-90c5-2abede3d42ef"
      },
      "execution_count": 28,
      "outputs": [
        {
          "output_type": "stream",
          "name": "stdout",
          "text": [
            "Test Accuracy: 0.654627539503386\n"
          ]
        }
      ]
    }
  ]
}
